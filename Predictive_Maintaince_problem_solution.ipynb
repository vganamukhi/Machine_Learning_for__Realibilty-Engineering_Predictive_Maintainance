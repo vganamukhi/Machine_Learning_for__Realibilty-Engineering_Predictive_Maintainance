{
 "cells": [
  {
   "cell_type": "code",
   "execution_count": 1,
   "metadata": {},
   "outputs": [],
   "source": [
    "import pandas as pd"
   ]
  },
  {
   "cell_type": "code",
   "execution_count": 2,
   "metadata": {},
   "outputs": [
    {
     "name": "stdout",
     "output_type": "stream",
     "text": [
      "D:\\Tagup_assessment\n"
     ]
    }
   ],
   "source": [
    "%cd \"D:\\Tagup_assessment\""
   ]
  },
  {
   "cell_type": "code",
   "execution_count": 3,
   "metadata": {},
   "outputs": [],
   "source": [
    "machine0_df = pd.read_csv(\"machine_0.csv\")"
   ]
  },
  {
   "cell_type": "code",
   "execution_count": 4,
   "metadata": {},
   "outputs": [
    {
     "data": {
      "text/html": [
       "<div>\n",
       "<style scoped>\n",
       "    .dataframe tbody tr th:only-of-type {\n",
       "        vertical-align: middle;\n",
       "    }\n",
       "\n",
       "    .dataframe tbody tr th {\n",
       "        vertical-align: top;\n",
       "    }\n",
       "\n",
       "    .dataframe thead th {\n",
       "        text-align: right;\n",
       "    }\n",
       "</style>\n",
       "<table border=\"1\" class=\"dataframe\">\n",
       "  <thead>\n",
       "    <tr style=\"text-align: right;\">\n",
       "      <th></th>\n",
       "      <th>Unnamed: 0</th>\n",
       "      <th>0</th>\n",
       "      <th>1</th>\n",
       "      <th>2</th>\n",
       "      <th>3</th>\n",
       "    </tr>\n",
       "  </thead>\n",
       "  <tbody>\n",
       "    <tr>\n",
       "      <td>0</td>\n",
       "      <td>2019-01-01 00:00:00.000000000</td>\n",
       "      <td>12.626096</td>\n",
       "      <td>8.803120</td>\n",
       "      <td>-11.809200</td>\n",
       "      <td>10.083961</td>\n",
       "    </tr>\n",
       "    <tr>\n",
       "      <td>1</td>\n",
       "      <td>2019-01-01 08:00:09.603201067</td>\n",
       "      <td>10.831994</td>\n",
       "      <td>2.816327</td>\n",
       "      <td>11.554778</td>\n",
       "      <td>21.892853</td>\n",
       "    </tr>\n",
       "    <tr>\n",
       "      <td>2</td>\n",
       "      <td>2019-01-01 16:00:19.206402134</td>\n",
       "      <td>21.083510</td>\n",
       "      <td>-0.672645</td>\n",
       "      <td>-17.839178</td>\n",
       "      <td>-1.349024</td>\n",
       "    </tr>\n",
       "    <tr>\n",
       "      <td>3</td>\n",
       "      <td>2019-01-02 00:00:28.809603201</td>\n",
       "      <td>32.294495</td>\n",
       "      <td>6.525132</td>\n",
       "      <td>-13.498586</td>\n",
       "      <td>-4.250752</td>\n",
       "    </tr>\n",
       "    <tr>\n",
       "      <td>4</td>\n",
       "      <td>2019-01-02 08:00:38.412804268</td>\n",
       "      <td>28.057100</td>\n",
       "      <td>3.691359</td>\n",
       "      <td>21.984744</td>\n",
       "      <td>13.670561</td>\n",
       "    </tr>\n",
       "    <tr>\n",
       "      <td>...</td>\n",
       "      <td>...</td>\n",
       "      <td>...</td>\n",
       "      <td>...</td>\n",
       "      <td>...</td>\n",
       "      <td>...</td>\n",
       "    </tr>\n",
       "    <tr>\n",
       "      <td>2995</td>\n",
       "      <td>2021-09-25 15:59:21.587195728</td>\n",
       "      <td>0.004364</td>\n",
       "      <td>-0.010959</td>\n",
       "      <td>-0.007210</td>\n",
       "      <td>0.012390</td>\n",
       "    </tr>\n",
       "    <tr>\n",
       "      <td>2996</td>\n",
       "      <td>2021-09-25 23:59:31.190396800</td>\n",
       "      <td>0.004077</td>\n",
       "      <td>0.000165</td>\n",
       "      <td>-0.003772</td>\n",
       "      <td>0.010053</td>\n",
       "    </tr>\n",
       "    <tr>\n",
       "      <td>2997</td>\n",
       "      <td>2021-09-26 07:59:40.793597872</td>\n",
       "      <td>0.007702</td>\n",
       "      <td>-0.014708</td>\n",
       "      <td>-0.011722</td>\n",
       "      <td>0.001334</td>\n",
       "    </tr>\n",
       "    <tr>\n",
       "      <td>2998</td>\n",
       "      <td>2021-09-26 15:59:50.396798944</td>\n",
       "      <td>-0.008149</td>\n",
       "      <td>0.000107</td>\n",
       "      <td>-0.017914</td>\n",
       "      <td>0.010599</td>\n",
       "    </tr>\n",
       "    <tr>\n",
       "      <td>2999</td>\n",
       "      <td>2021-09-27 00:00:00.000000000</td>\n",
       "      <td>0.003465</td>\n",
       "      <td>0.023451</td>\n",
       "      <td>0.012463</td>\n",
       "      <td>0.013997</td>\n",
       "    </tr>\n",
       "  </tbody>\n",
       "</table>\n",
       "<p>3000 rows × 5 columns</p>\n",
       "</div>"
      ],
      "text/plain": [
       "                         Unnamed: 0          0         1          2          3\n",
       "0     2019-01-01 00:00:00.000000000  12.626096  8.803120 -11.809200  10.083961\n",
       "1     2019-01-01 08:00:09.603201067  10.831994  2.816327  11.554778  21.892853\n",
       "2     2019-01-01 16:00:19.206402134  21.083510 -0.672645 -17.839178  -1.349024\n",
       "3     2019-01-02 00:00:28.809603201  32.294495  6.525132 -13.498586  -4.250752\n",
       "4     2019-01-02 08:00:38.412804268  28.057100  3.691359  21.984744  13.670561\n",
       "...                             ...        ...       ...        ...        ...\n",
       "2995  2021-09-25 15:59:21.587195728   0.004364 -0.010959  -0.007210   0.012390\n",
       "2996  2021-09-25 23:59:31.190396800   0.004077  0.000165  -0.003772   0.010053\n",
       "2997  2021-09-26 07:59:40.793597872   0.007702 -0.014708  -0.011722   0.001334\n",
       "2998  2021-09-26 15:59:50.396798944  -0.008149  0.000107  -0.017914   0.010599\n",
       "2999  2021-09-27 00:00:00.000000000   0.003465  0.023451   0.012463   0.013997\n",
       "\n",
       "[3000 rows x 5 columns]"
      ]
     },
     "execution_count": 4,
     "metadata": {},
     "output_type": "execute_result"
    }
   ],
   "source": [
    "machine0_df"
   ]
  },
  {
   "cell_type": "code",
   "execution_count": 6,
   "metadata": {},
   "outputs": [
    {
     "data": {
      "text/plain": [
       "(3000, 5)"
      ]
     },
     "execution_count": 6,
     "metadata": {},
     "output_type": "execute_result"
    }
   ],
   "source": [
    "machine0_df.shape"
   ]
  },
  {
   "cell_type": "code",
   "execution_count": 7,
   "metadata": {},
   "outputs": [
    {
     "data": {
      "text/plain": [
       "['Unnamed: 0', '0', '1', '2', '3']"
      ]
     },
     "execution_count": 7,
     "metadata": {},
     "output_type": "execute_result"
    }
   ],
   "source": [
    "list(machine0_df)"
   ]
  },
  {
   "cell_type": "code",
   "execution_count": 8,
   "metadata": {},
   "outputs": [],
   "source": [
    "machine0_df.columns = ['timestamp', 'column_0', 'column_1', 'column_2', 'column_3']"
   ]
  },
  {
   "cell_type": "markdown",
   "metadata": {},
   "source": [
    "### Preprocessing of the machines data frame"
   ]
  },
  {
   "cell_type": "code",
   "execution_count": 9,
   "metadata": {},
   "outputs": [
    {
     "data": {
      "text/html": [
       "<div>\n",
       "<style scoped>\n",
       "    .dataframe tbody tr th:only-of-type {\n",
       "        vertical-align: middle;\n",
       "    }\n",
       "\n",
       "    .dataframe tbody tr th {\n",
       "        vertical-align: top;\n",
       "    }\n",
       "\n",
       "    .dataframe thead th {\n",
       "        text-align: right;\n",
       "    }\n",
       "</style>\n",
       "<table border=\"1\" class=\"dataframe\">\n",
       "  <thead>\n",
       "    <tr style=\"text-align: right;\">\n",
       "      <th></th>\n",
       "      <th>timestamp</th>\n",
       "      <th>column_0</th>\n",
       "      <th>column_1</th>\n",
       "      <th>column_2</th>\n",
       "      <th>column_3</th>\n",
       "    </tr>\n",
       "  </thead>\n",
       "  <tbody>\n",
       "    <tr>\n",
       "      <td>0</td>\n",
       "      <td>2019-01-01 00:00:00.000000000</td>\n",
       "      <td>12.626096</td>\n",
       "      <td>8.803120</td>\n",
       "      <td>-11.809200</td>\n",
       "      <td>10.083961</td>\n",
       "    </tr>\n",
       "    <tr>\n",
       "      <td>1</td>\n",
       "      <td>2019-01-01 08:00:09.603201067</td>\n",
       "      <td>10.831994</td>\n",
       "      <td>2.816327</td>\n",
       "      <td>11.554778</td>\n",
       "      <td>21.892853</td>\n",
       "    </tr>\n",
       "    <tr>\n",
       "      <td>2</td>\n",
       "      <td>2019-01-01 16:00:19.206402134</td>\n",
       "      <td>21.083510</td>\n",
       "      <td>-0.672645</td>\n",
       "      <td>-17.839178</td>\n",
       "      <td>-1.349024</td>\n",
       "    </tr>\n",
       "    <tr>\n",
       "      <td>3</td>\n",
       "      <td>2019-01-02 00:00:28.809603201</td>\n",
       "      <td>32.294495</td>\n",
       "      <td>6.525132</td>\n",
       "      <td>-13.498586</td>\n",
       "      <td>-4.250752</td>\n",
       "    </tr>\n",
       "    <tr>\n",
       "      <td>4</td>\n",
       "      <td>2019-01-02 08:00:38.412804268</td>\n",
       "      <td>28.057100</td>\n",
       "      <td>3.691359</td>\n",
       "      <td>21.984744</td>\n",
       "      <td>13.670561</td>\n",
       "    </tr>\n",
       "    <tr>\n",
       "      <td>...</td>\n",
       "      <td>...</td>\n",
       "      <td>...</td>\n",
       "      <td>...</td>\n",
       "      <td>...</td>\n",
       "      <td>...</td>\n",
       "    </tr>\n",
       "    <tr>\n",
       "      <td>2995</td>\n",
       "      <td>2021-09-25 15:59:21.587195728</td>\n",
       "      <td>0.004364</td>\n",
       "      <td>-0.010959</td>\n",
       "      <td>-0.007210</td>\n",
       "      <td>0.012390</td>\n",
       "    </tr>\n",
       "    <tr>\n",
       "      <td>2996</td>\n",
       "      <td>2021-09-25 23:59:31.190396800</td>\n",
       "      <td>0.004077</td>\n",
       "      <td>0.000165</td>\n",
       "      <td>-0.003772</td>\n",
       "      <td>0.010053</td>\n",
       "    </tr>\n",
       "    <tr>\n",
       "      <td>2997</td>\n",
       "      <td>2021-09-26 07:59:40.793597872</td>\n",
       "      <td>0.007702</td>\n",
       "      <td>-0.014708</td>\n",
       "      <td>-0.011722</td>\n",
       "      <td>0.001334</td>\n",
       "    </tr>\n",
       "    <tr>\n",
       "      <td>2998</td>\n",
       "      <td>2021-09-26 15:59:50.396798944</td>\n",
       "      <td>-0.008149</td>\n",
       "      <td>0.000107</td>\n",
       "      <td>-0.017914</td>\n",
       "      <td>0.010599</td>\n",
       "    </tr>\n",
       "    <tr>\n",
       "      <td>2999</td>\n",
       "      <td>2021-09-27 00:00:00.000000000</td>\n",
       "      <td>0.003465</td>\n",
       "      <td>0.023451</td>\n",
       "      <td>0.012463</td>\n",
       "      <td>0.013997</td>\n",
       "    </tr>\n",
       "  </tbody>\n",
       "</table>\n",
       "<p>3000 rows × 5 columns</p>\n",
       "</div>"
      ],
      "text/plain": [
       "                          timestamp   column_0  column_1   column_2   column_3\n",
       "0     2019-01-01 00:00:00.000000000  12.626096  8.803120 -11.809200  10.083961\n",
       "1     2019-01-01 08:00:09.603201067  10.831994  2.816327  11.554778  21.892853\n",
       "2     2019-01-01 16:00:19.206402134  21.083510 -0.672645 -17.839178  -1.349024\n",
       "3     2019-01-02 00:00:28.809603201  32.294495  6.525132 -13.498586  -4.250752\n",
       "4     2019-01-02 08:00:38.412804268  28.057100  3.691359  21.984744  13.670561\n",
       "...                             ...        ...       ...        ...        ...\n",
       "2995  2021-09-25 15:59:21.587195728   0.004364 -0.010959  -0.007210   0.012390\n",
       "2996  2021-09-25 23:59:31.190396800   0.004077  0.000165  -0.003772   0.010053\n",
       "2997  2021-09-26 07:59:40.793597872   0.007702 -0.014708  -0.011722   0.001334\n",
       "2998  2021-09-26 15:59:50.396798944  -0.008149  0.000107  -0.017914   0.010599\n",
       "2999  2021-09-27 00:00:00.000000000   0.003465  0.023451   0.012463   0.013997\n",
       "\n",
       "[3000 rows x 5 columns]"
      ]
     },
     "execution_count": 9,
     "metadata": {},
     "output_type": "execute_result"
    }
   ],
   "source": [
    "machine0_df"
   ]
  },
  {
   "cell_type": "code",
   "execution_count": 16,
   "metadata": {},
   "outputs": [
    {
     "name": "stdout",
     "output_type": "stream",
     "text": [
      "315.73895062008967\n",
      "-323.9544369818805\n"
     ]
    }
   ],
   "source": [
    "print(max(machine0_df.column_0))\n",
    "print(min(machine0_df.column_0))"
   ]
  },
  {
   "cell_type": "code",
   "execution_count": 17,
   "metadata": {},
   "outputs": [
    {
     "name": "stdout",
     "output_type": "stream",
     "text": [
      "264.3747822897355\n",
      "-258.7808789388393\n"
     ]
    }
   ],
   "source": [
    "print(max(machine0_df.column_1))\n",
    "print(min(machine0_df.column_1))"
   ]
  },
  {
   "cell_type": "code",
   "execution_count": 18,
   "metadata": {},
   "outputs": [
    {
     "name": "stdout",
     "output_type": "stream",
     "text": [
      "281.684101566015\n",
      "-287.15392021621574\n"
     ]
    }
   ],
   "source": [
    "print(max(machine0_df.column_2))\n",
    "print(min(machine0_df.column_2))"
   ]
  },
  {
   "cell_type": "code",
   "execution_count": 19,
   "metadata": {},
   "outputs": [
    {
     "name": "stdout",
     "output_type": "stream",
     "text": [
      "340.513818507407\n",
      "-365.3621640905645\n"
     ]
    }
   ],
   "source": [
    "print(max(machine0_df.column_3))\n",
    "print(min(machine0_df.column_3))"
   ]
  },
  {
   "cell_type": "markdown",
   "metadata": {},
   "source": [
    "### Below are the graphs plotted to understand the behavior of the machines"
   ]
  },
  {
   "cell_type": "code",
   "execution_count": 30,
   "metadata": {},
   "outputs": [
    {
     "data": {
      "text/plain": [
       "[<matplotlib.lines.Line2D at 0x24c4b446848>]"
      ]
     },
     "execution_count": 30,
     "metadata": {},
     "output_type": "execute_result"
    },
    {
     "data": {
      "image/png": "[encoded data removed]",
      "text/plain": [
       "<Figure size 432x288 with 1 Axes>"
      ]
     },
     "metadata": {
      "needs_background": "light"
     },
     "output_type": "display_data"
    }
   ],
   "source": [
    "pyplot.plot(machine0_df.timestamp[:1000], machine0_df.column_0[:1000])"
   ]
  },
  {
   "cell_type": "markdown",
   "metadata": {},
   "source": [
    "### Histogram of the machine_0 "
   ]
  },
  {
   "cell_type": "code",
   "execution_count": 195,
   "metadata": {},
   "outputs": [
    {
     "data": {
      "text/plain": [
       "(array([1.200e+01, 6.800e+01, 0.000e+00, 1.000e+00, 1.680e+02, 2.674e+03,\n",
       "        7.000e+00, 0.000e+00, 5.900e+01, 1.100e+01]),\n",
       " array([-323.95443698, -259.98509822, -196.01575946, -132.0464207 ,\n",
       "         -68.07708194,   -4.10774318,   59.86159558,  123.83093434,\n",
       "         187.8002731 ,  251.76961186,  315.73895062]),\n",
       " <a list of 10 Patch objects>)"
      ]
     },
     "execution_count": 195,
     "metadata": {},
     "output_type": "execute_result"
    },
    {
     "data": {
      "image/png": "[encoded data removed]",
      "text/plain": [
       "<Figure size 432x288 with 1 Axes>"
      ]
     },
     "metadata": {
      "needs_background": "light"
     },
     "output_type": "display_data"
    }
   ],
   "source": [
    "pyplot.hist(machine0_df.column_0)"
   ]
  },
  {
   "cell_type": "code",
   "execution_count": null,
   "metadata": {},
   "outputs": [],
   "source": []
  },
  {
   "cell_type": "code",
   "execution_count": 29,
   "metadata": {},
   "outputs": [
    {
     "data": {
      "text/plain": [
       "[<matplotlib.lines.Line2D at 0x24c4b2e4c08>]"
      ]
     },
     "execution_count": 29,
     "metadata": {},
     "output_type": "execute_result"
    },
    {
     "data": {
      "image/png": "[encoded data removed]",
      "text/plain": [
       "<Figure size 432x288 with 1 Axes>"
      ]
     },
     "metadata": {
      "needs_background": "light"
     },
     "output_type": "display_data"
    }
   ],
   "source": [
    "pyplot.plot(machine0_df.timestamp[:1000], machine0_df.column_1[:1000])"
   ]
  },
  {
   "cell_type": "code",
   "execution_count": 31,
   "metadata": {},
   "outputs": [
    {
     "data": {
      "text/plain": [
       "[<matplotlib.lines.Line2D at 0x24c4e57f2c8>]"
      ]
     },
     "execution_count": 31,
     "metadata": {},
     "output_type": "execute_result"
    },
    {
     "data": {
      "image/png": "[encoded data removed]",
      "text/plain": [
       "<Figure size 432x288 with 1 Axes>"
      ]
     },
     "metadata": {
      "needs_background": "light"
     },
     "output_type": "display_data"
    }
   ],
   "source": [
    "pyplot.plot(machine0_df.timestamp[:1000], machine0_df.column_2[:1000])"
   ]
  },
  {
   "cell_type": "code",
   "execution_count": 32,
   "metadata": {},
   "outputs": [
    {
     "data": {
      "text/plain": [
       "[<matplotlib.lines.Line2D at 0x24c4e847408>]"
      ]
     },
     "execution_count": 32,
     "metadata": {},
     "output_type": "execute_result"
    },
    {
     "data": {
      "image/png": "[encoded data removed]",
      "text/plain": [
       "<Figure size 432x288 with 1 Axes>"
      ]
     },
     "metadata": {
      "needs_background": "light"
     },
     "output_type": "display_data"
    }
   ],
   "source": [
    "pyplot.plot(machine0_df.timestamp[:1000], machine0_df.column_3[:1000])"
   ]
  },
  {
   "cell_type": "code",
   "execution_count": 33,
   "metadata": {},
   "outputs": [],
   "source": [
    "machine1_df = pd.read_csv(\"machine_1.csv\")"
   ]
  },
  {
   "cell_type": "code",
   "execution_count": 34,
   "metadata": {},
   "outputs": [
    {
     "data": {
      "text/html": [
       "<div>\n",
       "<style scoped>\n",
       "    .dataframe tbody tr th:only-of-type {\n",
       "        vertical-align: middle;\n",
       "    }\n",
       "\n",
       "    .dataframe tbody tr th {\n",
       "        vertical-align: top;\n",
       "    }\n",
       "\n",
       "    .dataframe thead th {\n",
       "        text-align: right;\n",
       "    }\n",
       "</style>\n",
       "<table border=\"1\" class=\"dataframe\">\n",
       "  <thead>\n",
       "    <tr style=\"text-align: right;\">\n",
       "      <th></th>\n",
       "      <th>Unnamed: 0</th>\n",
       "      <th>0</th>\n",
       "      <th>1</th>\n",
       "      <th>2</th>\n",
       "      <th>3</th>\n",
       "    </tr>\n",
       "  </thead>\n",
       "  <tbody>\n",
       "    <tr>\n",
       "      <td>0</td>\n",
       "      <td>2019-01-01 00:00:00.000000000</td>\n",
       "      <td>12.588243</td>\n",
       "      <td>8.829718</td>\n",
       "      <td>-11.803474</td>\n",
       "      <td>10.083107</td>\n",
       "    </tr>\n",
       "    <tr>\n",
       "      <td>1</td>\n",
       "      <td>2019-01-01 08:00:09.603201067</td>\n",
       "      <td>10.822199</td>\n",
       "      <td>2.795246</td>\n",
       "      <td>11.560279</td>\n",
       "      <td>21.898688</td>\n",
       "    </tr>\n",
       "    <tr>\n",
       "      <td>2</td>\n",
       "      <td>2019-01-01 16:00:19.206402134</td>\n",
       "      <td>21.074661</td>\n",
       "      <td>-0.655051</td>\n",
       "      <td>-17.840580</td>\n",
       "      <td>-1.346748</td>\n",
       "    </tr>\n",
       "    <tr>\n",
       "      <td>3</td>\n",
       "      <td>2019-01-02 00:00:28.809603201</td>\n",
       "      <td>32.284431</td>\n",
       "      <td>6.544655</td>\n",
       "      <td>-13.498907</td>\n",
       "      <td>-4.281704</td>\n",
       "    </tr>\n",
       "    <tr>\n",
       "      <td>4</td>\n",
       "      <td>2019-01-02 08:00:38.412804268</td>\n",
       "      <td>28.073949</td>\n",
       "      <td>253.681988</td>\n",
       "      <td>271.983917</td>\n",
       "      <td>263.627071</td>\n",
       "    </tr>\n",
       "    <tr>\n",
       "      <td>...</td>\n",
       "      <td>...</td>\n",
       "      <td>...</td>\n",
       "      <td>...</td>\n",
       "      <td>...</td>\n",
       "      <td>...</td>\n",
       "    </tr>\n",
       "    <tr>\n",
       "      <td>2995</td>\n",
       "      <td>2021-09-25 15:59:21.587195728</td>\n",
       "      <td>0.013339</td>\n",
       "      <td>-0.004840</td>\n",
       "      <td>0.008979</td>\n",
       "      <td>0.021192</td>\n",
       "    </tr>\n",
       "    <tr>\n",
       "      <td>2996</td>\n",
       "      <td>2021-09-25 23:59:31.190396800</td>\n",
       "      <td>-250.014021</td>\n",
       "      <td>-0.010655</td>\n",
       "      <td>-250.015625</td>\n",
       "      <td>0.012988</td>\n",
       "    </tr>\n",
       "    <tr>\n",
       "      <td>2997</td>\n",
       "      <td>2021-09-26 07:59:40.793597872</td>\n",
       "      <td>0.004022</td>\n",
       "      <td>-0.010029</td>\n",
       "      <td>-0.006909</td>\n",
       "      <td>-0.015833</td>\n",
       "    </tr>\n",
       "    <tr>\n",
       "      <td>2998</td>\n",
       "      <td>2021-09-26 15:59:50.396798944</td>\n",
       "      <td>-0.000898</td>\n",
       "      <td>-0.011221</td>\n",
       "      <td>-0.003785</td>\n",
       "      <td>-0.010964</td>\n",
       "    </tr>\n",
       "    <tr>\n",
       "      <td>2999</td>\n",
       "      <td>2021-09-27 00:00:00.000000000</td>\n",
       "      <td>0.006092</td>\n",
       "      <td>0.006979</td>\n",
       "      <td>-0.019379</td>\n",
       "      <td>0.014888</td>\n",
       "    </tr>\n",
       "  </tbody>\n",
       "</table>\n",
       "<p>3000 rows × 5 columns</p>\n",
       "</div>"
      ],
      "text/plain": [
       "                         Unnamed: 0           0           1           2  \\\n",
       "0     2019-01-01 00:00:00.000000000   12.588243    8.829718  -11.803474   \n",
       "1     2019-01-01 08:00:09.603201067   10.822199    2.795246   11.560279   \n",
       "2     2019-01-01 16:00:19.206402134   21.074661   -0.655051  -17.840580   \n",
       "3     2019-01-02 00:00:28.809603201   32.284431    6.544655  -13.498907   \n",
       "4     2019-01-02 08:00:38.412804268   28.073949  253.681988  271.983917   \n",
       "...                             ...         ...         ...         ...   \n",
       "2995  2021-09-25 15:59:21.587195728    0.013339   -0.004840    0.008979   \n",
       "2996  2021-09-25 23:59:31.190396800 -250.014021   -0.010655 -250.015625   \n",
       "2997  2021-09-26 07:59:40.793597872    0.004022   -0.010029   -0.006909   \n",
       "2998  2021-09-26 15:59:50.396798944   -0.000898   -0.011221   -0.003785   \n",
       "2999  2021-09-27 00:00:00.000000000    0.006092    0.006979   -0.019379   \n",
       "\n",
       "               3  \n",
       "0      10.083107  \n",
       "1      21.898688  \n",
       "2      -1.346748  \n",
       "3      -4.281704  \n",
       "4     263.627071  \n",
       "...          ...  \n",
       "2995    0.021192  \n",
       "2996    0.012988  \n",
       "2997   -0.015833  \n",
       "2998   -0.010964  \n",
       "2999    0.014888  \n",
       "\n",
       "[3000 rows x 5 columns]"
      ]
     },
     "execution_count": 34,
     "metadata": {},
     "output_type": "execute_result"
    }
   ],
   "source": [
    "machine1_df"
   ]
  },
  {
   "cell_type": "code",
   "execution_count": 35,
   "metadata": {},
   "outputs": [
    {
     "data": {
      "text/html": [
       "<div>\n",
       "<style scoped>\n",
       "    .dataframe tbody tr th:only-of-type {\n",
       "        vertical-align: middle;\n",
       "    }\n",
       "\n",
       "    .dataframe tbody tr th {\n",
       "        vertical-align: top;\n",
       "    }\n",
       "\n",
       "    .dataframe thead th {\n",
       "        text-align: right;\n",
       "    }\n",
       "</style>\n",
       "<table border=\"1\" class=\"dataframe\">\n",
       "  <thead>\n",
       "    <tr style=\"text-align: right;\">\n",
       "      <th></th>\n",
       "      <th>timestamp</th>\n",
       "      <th>column_0</th>\n",
       "      <th>column_1</th>\n",
       "      <th>column_2</th>\n",
       "      <th>column_3</th>\n",
       "    </tr>\n",
       "  </thead>\n",
       "  <tbody>\n",
       "    <tr>\n",
       "      <td>0</td>\n",
       "      <td>2019-01-01 00:00:00.000000000</td>\n",
       "      <td>12.626096</td>\n",
       "      <td>8.803120</td>\n",
       "      <td>-11.809200</td>\n",
       "      <td>10.083961</td>\n",
       "    </tr>\n",
       "    <tr>\n",
       "      <td>1</td>\n",
       "      <td>2019-01-01 08:00:09.603201067</td>\n",
       "      <td>10.831994</td>\n",
       "      <td>2.816327</td>\n",
       "      <td>11.554778</td>\n",
       "      <td>21.892853</td>\n",
       "    </tr>\n",
       "    <tr>\n",
       "      <td>2</td>\n",
       "      <td>2019-01-01 16:00:19.206402134</td>\n",
       "      <td>21.083510</td>\n",
       "      <td>-0.672645</td>\n",
       "      <td>-17.839178</td>\n",
       "      <td>-1.349024</td>\n",
       "    </tr>\n",
       "    <tr>\n",
       "      <td>3</td>\n",
       "      <td>2019-01-02 00:00:28.809603201</td>\n",
       "      <td>32.294495</td>\n",
       "      <td>6.525132</td>\n",
       "      <td>-13.498586</td>\n",
       "      <td>-4.250752</td>\n",
       "    </tr>\n",
       "    <tr>\n",
       "      <td>4</td>\n",
       "      <td>2019-01-02 08:00:38.412804268</td>\n",
       "      <td>28.057100</td>\n",
       "      <td>3.691359</td>\n",
       "      <td>21.984744</td>\n",
       "      <td>13.670561</td>\n",
       "    </tr>\n",
       "    <tr>\n",
       "      <td>...</td>\n",
       "      <td>...</td>\n",
       "      <td>...</td>\n",
       "      <td>...</td>\n",
       "      <td>...</td>\n",
       "      <td>...</td>\n",
       "    </tr>\n",
       "    <tr>\n",
       "      <td>2995</td>\n",
       "      <td>2021-09-25 15:59:21.587195728</td>\n",
       "      <td>0.004364</td>\n",
       "      <td>-0.010959</td>\n",
       "      <td>-0.007210</td>\n",
       "      <td>0.012390</td>\n",
       "    </tr>\n",
       "    <tr>\n",
       "      <td>2996</td>\n",
       "      <td>2021-09-25 23:59:31.190396800</td>\n",
       "      <td>0.004077</td>\n",
       "      <td>0.000165</td>\n",
       "      <td>-0.003772</td>\n",
       "      <td>0.010053</td>\n",
       "    </tr>\n",
       "    <tr>\n",
       "      <td>2997</td>\n",
       "      <td>2021-09-26 07:59:40.793597872</td>\n",
       "      <td>0.007702</td>\n",
       "      <td>-0.014708</td>\n",
       "      <td>-0.011722</td>\n",
       "      <td>0.001334</td>\n",
       "    </tr>\n",
       "    <tr>\n",
       "      <td>2998</td>\n",
       "      <td>2021-09-26 15:59:50.396798944</td>\n",
       "      <td>-0.008149</td>\n",
       "      <td>0.000107</td>\n",
       "      <td>-0.017914</td>\n",
       "      <td>0.010599</td>\n",
       "    </tr>\n",
       "    <tr>\n",
       "      <td>2999</td>\n",
       "      <td>2021-09-27 00:00:00.000000000</td>\n",
       "      <td>0.003465</td>\n",
       "      <td>0.023451</td>\n",
       "      <td>0.012463</td>\n",
       "      <td>0.013997</td>\n",
       "    </tr>\n",
       "  </tbody>\n",
       "</table>\n",
       "<p>3000 rows × 5 columns</p>\n",
       "</div>"
      ],
      "text/plain": [
       "                          timestamp   column_0  column_1   column_2   column_3\n",
       "0     2019-01-01 00:00:00.000000000  12.626096  8.803120 -11.809200  10.083961\n",
       "1     2019-01-01 08:00:09.603201067  10.831994  2.816327  11.554778  21.892853\n",
       "2     2019-01-01 16:00:19.206402134  21.083510 -0.672645 -17.839178  -1.349024\n",
       "3     2019-01-02 00:00:28.809603201  32.294495  6.525132 -13.498586  -4.250752\n",
       "4     2019-01-02 08:00:38.412804268  28.057100  3.691359  21.984744  13.670561\n",
       "...                             ...        ...       ...        ...        ...\n",
       "2995  2021-09-25 15:59:21.587195728   0.004364 -0.010959  -0.007210   0.012390\n",
       "2996  2021-09-25 23:59:31.190396800   0.004077  0.000165  -0.003772   0.010053\n",
       "2997  2021-09-26 07:59:40.793597872   0.007702 -0.014708  -0.011722   0.001334\n",
       "2998  2021-09-26 15:59:50.396798944  -0.008149  0.000107  -0.017914   0.010599\n",
       "2999  2021-09-27 00:00:00.000000000   0.003465  0.023451   0.012463   0.013997\n",
       "\n",
       "[3000 rows x 5 columns]"
      ]
     },
     "execution_count": 35,
     "metadata": {},
     "output_type": "execute_result"
    }
   ],
   "source": [
    "machine0_df"
   ]
  },
  {
   "cell_type": "code",
   "execution_count": 36,
   "metadata": {},
   "outputs": [
    {
     "data": {
      "text/html": [
       "<div>\n",
       "<style scoped>\n",
       "    .dataframe tbody tr th:only-of-type {\n",
       "        vertical-align: middle;\n",
       "    }\n",
       "\n",
       "    .dataframe tbody tr th {\n",
       "        vertical-align: top;\n",
       "    }\n",
       "\n",
       "    .dataframe thead th {\n",
       "        text-align: right;\n",
       "    }\n",
       "</style>\n",
       "<table border=\"1\" class=\"dataframe\">\n",
       "  <thead>\n",
       "    <tr style=\"text-align: right;\">\n",
       "      <th></th>\n",
       "      <th>Unnamed: 0</th>\n",
       "      <th>0</th>\n",
       "      <th>1</th>\n",
       "      <th>2</th>\n",
       "      <th>3</th>\n",
       "    </tr>\n",
       "  </thead>\n",
       "  <tbody>\n",
       "    <tr>\n",
       "      <td>0</td>\n",
       "      <td>2019-01-01 00:00:00.000000000</td>\n",
       "      <td>12.610290</td>\n",
       "      <td>8.824032</td>\n",
       "      <td>-11.811786</td>\n",
       "      <td>10.084184</td>\n",
       "    </tr>\n",
       "    <tr>\n",
       "      <td>1</td>\n",
       "      <td>2019-01-01 08:00:09.603201067</td>\n",
       "      <td>10.818875</td>\n",
       "      <td>2.805791</td>\n",
       "      <td>11.570006</td>\n",
       "      <td>21.915231</td>\n",
       "    </tr>\n",
       "    <tr>\n",
       "      <td>2</td>\n",
       "      <td>2019-01-01 16:00:19.206402134</td>\n",
       "      <td>21.073187</td>\n",
       "      <td>-0.639026</td>\n",
       "      <td>-17.843895</td>\n",
       "      <td>-1.356167</td>\n",
       "    </tr>\n",
       "    <tr>\n",
       "      <td>3</td>\n",
       "      <td>2019-01-02 00:00:28.809603201</td>\n",
       "      <td>32.315311</td>\n",
       "      <td>6.532577</td>\n",
       "      <td>-13.485271</td>\n",
       "      <td>-4.255483</td>\n",
       "    </tr>\n",
       "    <tr>\n",
       "      <td>4</td>\n",
       "      <td>2019-01-02 08:00:38.412804268</td>\n",
       "      <td>28.074548</td>\n",
       "      <td>3.688710</td>\n",
       "      <td>21.986233</td>\n",
       "      <td>13.632604</td>\n",
       "    </tr>\n",
       "    <tr>\n",
       "      <td>...</td>\n",
       "      <td>...</td>\n",
       "      <td>...</td>\n",
       "      <td>...</td>\n",
       "      <td>...</td>\n",
       "      <td>...</td>\n",
       "    </tr>\n",
       "    <tr>\n",
       "      <td>2995</td>\n",
       "      <td>2021-09-25 15:59:21.587195728</td>\n",
       "      <td>0.003106</td>\n",
       "      <td>0.003475</td>\n",
       "      <td>-0.002161</td>\n",
       "      <td>0.006103</td>\n",
       "    </tr>\n",
       "    <tr>\n",
       "      <td>2996</td>\n",
       "      <td>2021-09-25 23:59:31.190396800</td>\n",
       "      <td>-0.011613</td>\n",
       "      <td>0.005360</td>\n",
       "      <td>0.000952</td>\n",
       "      <td>-0.002860</td>\n",
       "    </tr>\n",
       "    <tr>\n",
       "      <td>2997</td>\n",
       "      <td>2021-09-26 07:59:40.793597872</td>\n",
       "      <td>-0.012264</td>\n",
       "      <td>-0.008287</td>\n",
       "      <td>0.003499</td>\n",
       "      <td>-0.003193</td>\n",
       "    </tr>\n",
       "    <tr>\n",
       "      <td>2998</td>\n",
       "      <td>2021-09-26 15:59:50.396798944</td>\n",
       "      <td>-250.010331</td>\n",
       "      <td>0.013189</td>\n",
       "      <td>-0.008926</td>\n",
       "      <td>-0.013528</td>\n",
       "    </tr>\n",
       "    <tr>\n",
       "      <td>2999</td>\n",
       "      <td>2021-09-27 00:00:00.000000000</td>\n",
       "      <td>0.007304</td>\n",
       "      <td>-0.004040</td>\n",
       "      <td>0.007998</td>\n",
       "      <td>0.009459</td>\n",
       "    </tr>\n",
       "  </tbody>\n",
       "</table>\n",
       "<p>3000 rows × 5 columns</p>\n",
       "</div>"
      ],
      "text/plain": [
       "                         Unnamed: 0           0         1          2  \\\n",
       "0     2019-01-01 00:00:00.000000000   12.610290  8.824032 -11.811786   \n",
       "1     2019-01-01 08:00:09.603201067   10.818875  2.805791  11.570006   \n",
       "2     2019-01-01 16:00:19.206402134   21.073187 -0.639026 -17.843895   \n",
       "3     2019-01-02 00:00:28.809603201   32.315311  6.532577 -13.485271   \n",
       "4     2019-01-02 08:00:38.412804268   28.074548  3.688710  21.986233   \n",
       "...                             ...         ...       ...        ...   \n",
       "2995  2021-09-25 15:59:21.587195728    0.003106  0.003475  -0.002161   \n",
       "2996  2021-09-25 23:59:31.190396800   -0.011613  0.005360   0.000952   \n",
       "2997  2021-09-26 07:59:40.793597872   -0.012264 -0.008287   0.003499   \n",
       "2998  2021-09-26 15:59:50.396798944 -250.010331  0.013189  -0.008926   \n",
       "2999  2021-09-27 00:00:00.000000000    0.007304 -0.004040   0.007998   \n",
       "\n",
       "              3  \n",
       "0     10.084184  \n",
       "1     21.915231  \n",
       "2     -1.356167  \n",
       "3     -4.255483  \n",
       "4     13.632604  \n",
       "...         ...  \n",
       "2995   0.006103  \n",
       "2996  -0.002860  \n",
       "2997  -0.003193  \n",
       "2998  -0.013528  \n",
       "2999   0.009459  \n",
       "\n",
       "[3000 rows x 5 columns]"
      ]
     },
     "execution_count": 36,
     "metadata": {},
     "output_type": "execute_result"
    }
   ],
   "source": [
    "machine2_df = pd.read_csv(\"machine_2.csv\")\n",
    "machine2_df"
   ]
  },
  {
   "cell_type": "code",
   "execution_count": 38,
   "metadata": {},
   "outputs": [],
   "source": [
    "machine1_df.columns = ['M1_timestamp', 'M1_column_0', 'M1_column_1', 'M1_column_2', 'M1_column_3']\n",
    "machine2_df.columns = ['M2_timestamp', 'M2_column_0', 'M2_column_1', 'M2_column_2', 'M2_column_3']"
   ]
  },
  {
   "cell_type": "code",
   "execution_count": 41,
   "metadata": {},
   "outputs": [
    {
     "data": {
      "text/plain": [
       "[<matplotlib.lines.Line2D at 0x24c535abe48>,\n",
       " <matplotlib.lines.Line2D at 0x24c5353c0c8>]"
      ]
     },
     "execution_count": 41,
     "metadata": {},
     "output_type": "execute_result"
    },
    {
     "data": {
      "image/png": "[encoded data removed]",
      "text/plain": [
       "<Figure size 432x288 with 1 Axes>"
      ]
     },
     "metadata": {
      "needs_background": "light"
     },
     "output_type": "display_data"
    }
   ],
   "source": [
    "pyplot.plot(machine0_df.timestamp[:100], machine0_df.column_1[:100], machine1_df.M1_column_1[:100])"
   ]
  },
  {
   "cell_type": "code",
   "execution_count": 43,
   "metadata": {},
   "outputs": [
    {
     "data": {
      "text/plain": [
       "[<matplotlib.lines.Line2D at 0x24c545f4288>,\n",
       " <matplotlib.lines.Line2D at 0x24c545f7088>]"
      ]
     },
     "execution_count": 43,
     "metadata": {},
     "output_type": "execute_result"
    },
    {
     "data": {
      "image/png": "[encoded data removed]",
      "text/plain": [
       "<Figure size 432x288 with 1 Axes>"
      ]
     },
     "metadata": {
      "needs_background": "light"
     },
     "output_type": "display_data"
    }
   ],
   "source": [
    "pyplot.plot(machine1_df.M1_timestamp[:100], machine1_df.M1_column_1[:100], machine2_df.M2_column_1[:100])"
   ]
  },
  {
   "cell_type": "code",
   "execution_count": 44,
   "metadata": {},
   "outputs": [
    {
     "data": {
      "text/plain": [
       "0      2019-01-01 00:00:00.000000000\n",
       "1      2019-01-01 08:00:09.603201067\n",
       "2      2019-01-01 16:00:19.206402134\n",
       "3      2019-01-02 00:00:28.809603201\n",
       "4      2019-01-02 08:00:38.412804268\n",
       "                    ...             \n",
       "2995   2021-09-25 15:59:21.587195728\n",
       "2996   2021-09-25 23:59:31.190396800\n",
       "2997   2021-09-26 07:59:40.793597872\n",
       "2998   2021-09-26 15:59:50.396798944\n",
       "2999   2021-09-27 00:00:00.000000000\n",
       "Name: M1_timestamp, Length: 3000, dtype: datetime64[ns]"
      ]
     },
     "execution_count": 44,
     "metadata": {},
     "output_type": "execute_result"
    }
   ],
   "source": [
    "pd.to_datetime(machine1_df.M1_timestamp, infer_datetime_format=True)"
   ]
  },
  {
   "cell_type": "code",
   "execution_count": 51,
   "metadata": {},
   "outputs": [],
   "source": [
    "machine3_df = pd.read_csv(\"machine_3.csv\")\n",
    "machine4_df = pd.read_csv(\"machine_4.csv\")\n",
    "machine5_df = pd.read_csv(\"machine_5.csv\")\n",
    "machine6_df = pd.read_csv(\"machine_6.csv\")\n",
    "machine7_df = pd.read_csv(\"machine_7.csv\")\n",
    "machine8_df = pd.read_csv(\"machine_8.csv\")"
   ]
  },
  {
   "cell_type": "code",
   "execution_count": 54,
   "metadata": {},
   "outputs": [
    {
     "data": {
      "text/html": [
       "<div>\n",
       "<style scoped>\n",
       "    .dataframe tbody tr th:only-of-type {\n",
       "        vertical-align: middle;\n",
       "    }\n",
       "\n",
       "    .dataframe tbody tr th {\n",
       "        vertical-align: top;\n",
       "    }\n",
       "\n",
       "    .dataframe thead th {\n",
       "        text-align: right;\n",
       "    }\n",
       "</style>\n",
       "<table border=\"1\" class=\"dataframe\">\n",
       "  <thead>\n",
       "    <tr style=\"text-align: right;\">\n",
       "      <th></th>\n",
       "      <th>Unnamed: 0</th>\n",
       "      <th>0</th>\n",
       "      <th>1</th>\n",
       "      <th>2</th>\n",
       "      <th>3</th>\n",
       "    </tr>\n",
       "  </thead>\n",
       "  <tbody>\n",
       "    <tr>\n",
       "      <td>0</td>\n",
       "      <td>2019-01-01 00:00:00.000000000</td>\n",
       "      <td>12.601444</td>\n",
       "      <td>8.828701</td>\n",
       "      <td>-11.778957</td>\n",
       "      <td>10.074501</td>\n",
       "    </tr>\n",
       "    <tr>\n",
       "      <td>1</td>\n",
       "      <td>2019-01-01 08:00:09.603201067</td>\n",
       "      <td>10.826737</td>\n",
       "      <td>2.774647</td>\n",
       "      <td>11.555189</td>\n",
       "      <td>21.890589</td>\n",
       "    </tr>\n",
       "    <tr>\n",
       "      <td>2</td>\n",
       "      <td>2019-01-01 16:00:19.206402134</td>\n",
       "      <td>21.075363</td>\n",
       "      <td>-0.665288</td>\n",
       "      <td>-17.833698</td>\n",
       "      <td>-1.357104</td>\n",
       "    </tr>\n",
       "    <tr>\n",
       "      <td>3</td>\n",
       "      <td>2019-01-02 00:00:28.809603201</td>\n",
       "      <td>32.290894</td>\n",
       "      <td>6.530091</td>\n",
       "      <td>-13.492233</td>\n",
       "      <td>-4.258009</td>\n",
       "    </tr>\n",
       "    <tr>\n",
       "      <td>4</td>\n",
       "      <td>2019-01-02 08:00:38.412804268</td>\n",
       "      <td>28.069493</td>\n",
       "      <td>3.700640</td>\n",
       "      <td>21.983822</td>\n",
       "      <td>13.631842</td>\n",
       "    </tr>\n",
       "    <tr>\n",
       "      <td>...</td>\n",
       "      <td>...</td>\n",
       "      <td>...</td>\n",
       "      <td>...</td>\n",
       "      <td>...</td>\n",
       "      <td>...</td>\n",
       "    </tr>\n",
       "    <tr>\n",
       "      <td>2995</td>\n",
       "      <td>2021-09-25 15:59:21.587195728</td>\n",
       "      <td>0.009483</td>\n",
       "      <td>0.014085</td>\n",
       "      <td>0.006123</td>\n",
       "      <td>-0.007012</td>\n",
       "    </tr>\n",
       "    <tr>\n",
       "      <td>2996</td>\n",
       "      <td>2021-09-25 23:59:31.190396800</td>\n",
       "      <td>0.009969</td>\n",
       "      <td>0.006540</td>\n",
       "      <td>0.020632</td>\n",
       "      <td>-0.000014</td>\n",
       "    </tr>\n",
       "    <tr>\n",
       "      <td>2997</td>\n",
       "      <td>2021-09-26 07:59:40.793597872</td>\n",
       "      <td>-250.017283</td>\n",
       "      <td>-0.014706</td>\n",
       "      <td>0.004538</td>\n",
       "      <td>-0.011241</td>\n",
       "    </tr>\n",
       "    <tr>\n",
       "      <td>2998</td>\n",
       "      <td>2021-09-26 15:59:50.396798944</td>\n",
       "      <td>0.011695</td>\n",
       "      <td>-0.006312</td>\n",
       "      <td>-0.010305</td>\n",
       "      <td>0.004449</td>\n",
       "    </tr>\n",
       "    <tr>\n",
       "      <td>2999</td>\n",
       "      <td>2021-09-27 00:00:00.000000000</td>\n",
       "      <td>-0.010838</td>\n",
       "      <td>-0.001732</td>\n",
       "      <td>0.001961</td>\n",
       "      <td>0.008309</td>\n",
       "    </tr>\n",
       "  </tbody>\n",
       "</table>\n",
       "<p>3000 rows × 5 columns</p>\n",
       "</div>"
      ],
      "text/plain": [
       "                         Unnamed: 0           0         1          2  \\\n",
       "0     2019-01-01 00:00:00.000000000   12.601444  8.828701 -11.778957   \n",
       "1     2019-01-01 08:00:09.603201067   10.826737  2.774647  11.555189   \n",
       "2     2019-01-01 16:00:19.206402134   21.075363 -0.665288 -17.833698   \n",
       "3     2019-01-02 00:00:28.809603201   32.290894  6.530091 -13.492233   \n",
       "4     2019-01-02 08:00:38.412804268   28.069493  3.700640  21.983822   \n",
       "...                             ...         ...       ...        ...   \n",
       "2995  2021-09-25 15:59:21.587195728    0.009483  0.014085   0.006123   \n",
       "2996  2021-09-25 23:59:31.190396800    0.009969  0.006540   0.020632   \n",
       "2997  2021-09-26 07:59:40.793597872 -250.017283 -0.014706   0.004538   \n",
       "2998  2021-09-26 15:59:50.396798944    0.011695 -0.006312  -0.010305   \n",
       "2999  2021-09-27 00:00:00.000000000   -0.010838 -0.001732   0.001961   \n",
       "\n",
       "              3  \n",
       "0     10.074501  \n",
       "1     21.890589  \n",
       "2     -1.357104  \n",
       "3     -4.258009  \n",
       "4     13.631842  \n",
       "...         ...  \n",
       "2995  -0.007012  \n",
       "2996  -0.000014  \n",
       "2997  -0.011241  \n",
       "2998   0.004449  \n",
       "2999   0.008309  \n",
       "\n",
       "[3000 rows x 5 columns]"
      ]
     },
     "execution_count": 54,
     "metadata": {},
     "output_type": "execute_result"
    }
   ],
   "source": [
    "machine7_df"
   ]
  },
  {
   "cell_type": "code",
   "execution_count": 55,
   "metadata": {},
   "outputs": [
    {
     "data": {
      "text/plain": [
       "[<matplotlib.lines.Line2D at 0x24c548f2c88>]"
      ]
     },
     "execution_count": 55,
     "metadata": {},
     "output_type": "execute_result"
    },
    {
     "data": {
      "image/png": "[encoded data removed]",
      "text/plain": [
       "<Figure size 432x288 with 1 Axes>"
      ]
     },
     "metadata": {
      "needs_background": "light"
     },
     "output_type": "display_data"
    }
   ],
   "source": [
    "machine8_df.columns = ['timestamp', 'M8_column_0', 'M8_column_1', 'M8_column_2', 'M8_column_3']\n",
    "pyplot.plot(machine8_df.timestamp[:1000], machine8_df.M8_column_0[:1000])"
   ]
  },
  {
   "cell_type": "code",
   "execution_count": null,
   "metadata": {},
   "outputs": [],
   "source": [
    "pyplot.plot(machine8_df.timestamp[:1000], machine8_df.M8_column_0[:1000])"
   ]
  },
  {
   "cell_type": "code",
   "execution_count": 56,
   "metadata": {},
   "outputs": [
    {
     "data": {
      "text/plain": [
       "[<matplotlib.lines.Line2D at 0x24c552c4d88>]"
      ]
     },
     "execution_count": 56,
     "metadata": {},
     "output_type": "execute_result"
    },
    {
     "data": {
      "image/png": "[encoded data removed]",
      "text/plain": [
       "<Figure size 432x288 with 1 Axes>"
      ]
     },
     "metadata": {
      "needs_background": "light"
     },
     "output_type": "display_data"
    }
   ],
   "source": [
    "pyplot.plot(machine8_df.timestamp, machine8_df.M8_column_0)"
   ]
  },
  {
   "cell_type": "code",
   "execution_count": 57,
   "metadata": {},
   "outputs": [
    {
     "data": {
      "text/plain": [
       "[<matplotlib.lines.Line2D at 0x24c54afbcc8>]"
      ]
     },
     "execution_count": 57,
     "metadata": {},
     "output_type": "execute_result"
    },
    {
     "data": {
      "image/png": "[encoded data removed]",
      "text/plain": [
       "<Figure size 432x288 with 1 Axes>"
      ]
     },
     "metadata": {
      "needs_background": "light"
     },
     "output_type": "display_data"
    }
   ],
   "source": [
    "machine7_df.columns = ['timestamp', 'M7_column_0', 'M7_column_1', 'M7_column_2', 'M7_column_3']\n",
    "pyplot.plot(machine7_df.timestamp, machine7_df.M7_column_0)"
   ]
  },
  {
   "cell_type": "code",
   "execution_count": 61,
   "metadata": {},
   "outputs": [
    {
     "data": {
      "text/plain": [
       "[<matplotlib.lines.Line2D at 0x24c60df4388>,\n",
       " <matplotlib.lines.Line2D at 0x24c60e8d9c8>]"
      ]
     },
     "execution_count": 61,
     "metadata": {},
     "output_type": "execute_result"
    },
    {
     "data": {
      "image/png": "[encoded data removed]",
      "text/plain": [
       "<Figure size 432x288 with 1 Axes>"
      ]
     },
     "metadata": {
      "needs_background": "light"
     },
     "output_type": "display_data"
    }
   ],
   "source": [
    "machine5_df.columns = ['timestamp', 'M5_column_0', 'M5_column_1', 'M5_column_2', 'M5_column_3']\n",
    "pyplot.plot(machine5_df.timestamp, machine5_df.M5_column_0, machine5_df.M5_column_1)"
   ]
  },
  {
   "cell_type": "code",
   "execution_count": 62,
   "metadata": {},
   "outputs": [
    {
     "data": {
      "text/plain": [
       "[<matplotlib.lines.Line2D at 0x24c60dbcc48>,\n",
       " <matplotlib.lines.Line2D at 0x24c64f4c088>]"
      ]
     },
     "execution_count": 62,
     "metadata": {},
     "output_type": "execute_result"
    },
    {
     "data": {
      "image/png": "[encoded data removed]",
      "text/plain": [
       "<Figure size 432x288 with 1 Axes>"
      ]
     },
     "metadata": {
      "needs_background": "light"
     },
     "output_type": "display_data"
    }
   ],
   "source": [
    "pyplot.plot(machine5_df.timestamp, machine5_df.M5_column_2, machine5_df.M5_column_3)"
   ]
  },
  {
   "cell_type": "code",
   "execution_count": 63,
   "metadata": {},
   "outputs": [
    {
     "data": {
      "text/plain": [
       "[<matplotlib.lines.Line2D at 0x24c629a3d88>]"
      ]
     },
     "execution_count": 63,
     "metadata": {},
     "output_type": "execute_result"
    },
    {
     "data": {
      "image/png": "[encoded data removed]",
      "text/plain": [
       "<Figure size 432x288 with 1 Axes>"
      ]
     },
     "metadata": {
      "needs_background": "light"
     },
     "output_type": "display_data"
    }
   ],
   "source": [
    "pyplot.plot(machine5_df.timestamp, machine5_df.M5_column_2)"
   ]
  },
  {
   "cell_type": "code",
   "execution_count": 64,
   "metadata": {},
   "outputs": [
    {
     "data": {
      "text/plain": [
       "[<matplotlib.lines.Line2D at 0x24c6cd23dc8>]"
      ]
     },
     "execution_count": 64,
     "metadata": {},
     "output_type": "execute_result"
    },
    {
     "data": {
      "image/png": "[encoded data removed]",
      "text/plain": [
       "<Figure size 432x288 with 1 Axes>"
      ]
     },
     "metadata": {
      "needs_background": "light"
     },
     "output_type": "display_data"
    }
   ],
   "source": [
    "pyplot.plot(machine5_df.timestamp, machine5_df.M5_column_3)"
   ]
  },
  {
   "cell_type": "code",
   "execution_count": 59,
   "metadata": {},
   "outputs": [
    {
     "data": {
      "text/html": [
       "<div>\n",
       "<style scoped>\n",
       "    .dataframe tbody tr th:only-of-type {\n",
       "        vertical-align: middle;\n",
       "    }\n",
       "\n",
       "    .dataframe tbody tr th {\n",
       "        vertical-align: top;\n",
       "    }\n",
       "\n",
       "    .dataframe thead th {\n",
       "        text-align: right;\n",
       "    }\n",
       "</style>\n",
       "<table border=\"1\" class=\"dataframe\">\n",
       "  <thead>\n",
       "    <tr style=\"text-align: right;\">\n",
       "      <th></th>\n",
       "      <th>timestamp</th>\n",
       "      <th>M5_column_0</th>\n",
       "      <th>M5_column_1</th>\n",
       "      <th>M5_column_2</th>\n",
       "      <th>M5_column_3</th>\n",
       "    </tr>\n",
       "  </thead>\n",
       "  <tbody>\n",
       "    <tr>\n",
       "      <td>0</td>\n",
       "      <td>2019-01-01 00:00:00.000000000</td>\n",
       "      <td>12.597777</td>\n",
       "      <td>8.836901</td>\n",
       "      <td>-11.799889</td>\n",
       "      <td>10.089948</td>\n",
       "    </tr>\n",
       "    <tr>\n",
       "      <td>1</td>\n",
       "      <td>2019-01-01 08:00:09.603201067</td>\n",
       "      <td>10.831517</td>\n",
       "      <td>2.812573</td>\n",
       "      <td>11.559953</td>\n",
       "      <td>271.895841</td>\n",
       "    </tr>\n",
       "    <tr>\n",
       "      <td>2</td>\n",
       "      <td>2019-01-01 16:00:19.206402134</td>\n",
       "      <td>21.070489</td>\n",
       "      <td>-0.652446</td>\n",
       "      <td>-17.842786</td>\n",
       "      <td>-1.347411</td>\n",
       "    </tr>\n",
       "    <tr>\n",
       "      <td>3</td>\n",
       "      <td>2019-01-02 00:00:28.809603201</td>\n",
       "      <td>32.301228</td>\n",
       "      <td>6.542094</td>\n",
       "      <td>-13.497374</td>\n",
       "      <td>-4.269658</td>\n",
       "    </tr>\n",
       "    <tr>\n",
       "      <td>4</td>\n",
       "      <td>2019-01-02 08:00:38.412804268</td>\n",
       "      <td>28.065453</td>\n",
       "      <td>3.693814</td>\n",
       "      <td>21.984687</td>\n",
       "      <td>13.624739</td>\n",
       "    </tr>\n",
       "    <tr>\n",
       "      <td>...</td>\n",
       "      <td>...</td>\n",
       "      <td>...</td>\n",
       "      <td>...</td>\n",
       "      <td>...</td>\n",
       "      <td>...</td>\n",
       "    </tr>\n",
       "    <tr>\n",
       "      <td>2995</td>\n",
       "      <td>2021-09-25 15:59:21.587195728</td>\n",
       "      <td>0.001655</td>\n",
       "      <td>0.000391</td>\n",
       "      <td>0.014310</td>\n",
       "      <td>0.010704</td>\n",
       "    </tr>\n",
       "    <tr>\n",
       "      <td>2996</td>\n",
       "      <td>2021-09-25 23:59:31.190396800</td>\n",
       "      <td>-0.014326</td>\n",
       "      <td>-0.013773</td>\n",
       "      <td>0.002770</td>\n",
       "      <td>-0.006811</td>\n",
       "    </tr>\n",
       "    <tr>\n",
       "      <td>2997</td>\n",
       "      <td>2021-09-26 07:59:40.793597872</td>\n",
       "      <td>0.010797</td>\n",
       "      <td>-0.004596</td>\n",
       "      <td>-0.001796</td>\n",
       "      <td>-0.019699</td>\n",
       "    </tr>\n",
       "    <tr>\n",
       "      <td>2998</td>\n",
       "      <td>2021-09-26 15:59:50.396798944</td>\n",
       "      <td>0.009739</td>\n",
       "      <td>250.015776</td>\n",
       "      <td>-0.002807</td>\n",
       "      <td>0.005566</td>\n",
       "    </tr>\n",
       "    <tr>\n",
       "      <td>2999</td>\n",
       "      <td>2021-09-27 00:00:00.000000000</td>\n",
       "      <td>0.010639</td>\n",
       "      <td>0.000438</td>\n",
       "      <td>-0.005171</td>\n",
       "      <td>-0.002770</td>\n",
       "    </tr>\n",
       "  </tbody>\n",
       "</table>\n",
       "<p>3000 rows × 5 columns</p>\n",
       "</div>"
      ],
      "text/plain": [
       "                          timestamp  M5_column_0  M5_column_1  M5_column_2  \\\n",
       "0     2019-01-01 00:00:00.000000000    12.597777     8.836901   -11.799889   \n",
       "1     2019-01-01 08:00:09.603201067    10.831517     2.812573    11.559953   \n",
       "2     2019-01-01 16:00:19.206402134    21.070489    -0.652446   -17.842786   \n",
       "3     2019-01-02 00:00:28.809603201    32.301228     6.542094   -13.497374   \n",
       "4     2019-01-02 08:00:38.412804268    28.065453     3.693814    21.984687   \n",
       "...                             ...          ...          ...          ...   \n",
       "2995  2021-09-25 15:59:21.587195728     0.001655     0.000391     0.014310   \n",
       "2996  2021-09-25 23:59:31.190396800    -0.014326    -0.013773     0.002770   \n",
       "2997  2021-09-26 07:59:40.793597872     0.010797    -0.004596    -0.001796   \n",
       "2998  2021-09-26 15:59:50.396798944     0.009739   250.015776    -0.002807   \n",
       "2999  2021-09-27 00:00:00.000000000     0.010639     0.000438    -0.005171   \n",
       "\n",
       "      M5_column_3  \n",
       "0       10.089948  \n",
       "1      271.895841  \n",
       "2       -1.347411  \n",
       "3       -4.269658  \n",
       "4       13.624739  \n",
       "...           ...  \n",
       "2995     0.010704  \n",
       "2996    -0.006811  \n",
       "2997    -0.019699  \n",
       "2998     0.005566  \n",
       "2999    -0.002770  \n",
       "\n",
       "[3000 rows x 5 columns]"
      ]
     },
     "execution_count": 59,
     "metadata": {},
     "output_type": "execute_result"
    }
   ],
   "source": [
    "machine5_df"
   ]
  },
  {
   "cell_type": "code",
   "execution_count": 73,
   "metadata": {},
   "outputs": [],
   "source": [
    "import numpy as np\n",
    "import pandas as pd\n",
    "\n",
    "\n",
    "machine5_df['diff'] = np.where((machine5_df.timestamp == machine0_df.timestamp)\n",
    "                     , 0, np.nan)"
   ]
  },
  {
   "cell_type": "code",
   "execution_count": 78,
   "metadata": {},
   "outputs": [
    {
     "name": "stdout",
     "output_type": "stream",
     "text": [
      "0.0\n"
     ]
    }
   ],
   "source": [
    "print(min(machine5_df['diff']))"
   ]
  },
  {
   "cell_type": "code",
   "execution_count": 102,
   "metadata": {},
   "outputs": [],
   "source": [
    "all_machines_df = pd.DataFrame()\n",
    "\n",
    "for i in range(0,20):\n",
    "    filename = \"machine_\"+str(i)+\".csv\"\n",
    "    machine = \"machine_\"+str(i)\n",
    "    machine_df =  pd.read_csv(filename)\n",
    "    #machine.columns = ['timestamp', 'M'+i+'_column_0', 'M'+i+'_column_1', 'M'+i+'_column_2', 'M'+i+'_column_3']\n",
    "    all_machines_df[machine] = machine_df[\"0\"]\n",
    "        "
   ]
  },
  {
   "cell_type": "code",
   "execution_count": 107,
   "metadata": {},
   "outputs": [
    {
     "data": {
      "text/html": [
       "<div>\n",
       "<style scoped>\n",
       "    .dataframe tbody tr th:only-of-type {\n",
       "        vertical-align: middle;\n",
       "    }\n",
       "\n",
       "    .dataframe tbody tr th {\n",
       "        vertical-align: top;\n",
       "    }\n",
       "\n",
       "    .dataframe thead th {\n",
       "        text-align: right;\n",
       "    }\n",
       "</style>\n",
       "<table border=\"1\" class=\"dataframe\">\n",
       "  <thead>\n",
       "    <tr style=\"text-align: right;\">\n",
       "      <th></th>\n",
       "      <th>machine_0</th>\n",
       "      <th>machine_1</th>\n",
       "      <th>machine_2</th>\n",
       "      <th>machine_3</th>\n",
       "      <th>machine_4</th>\n",
       "      <th>machine_5</th>\n",
       "      <th>machine_6</th>\n",
       "      <th>machine_7</th>\n",
       "      <th>machine_8</th>\n",
       "      <th>machine_9</th>\n",
       "      <th>...</th>\n",
       "      <th>machine_11</th>\n",
       "      <th>machine_12</th>\n",
       "      <th>machine_13</th>\n",
       "      <th>machine_14</th>\n",
       "      <th>machine_15</th>\n",
       "      <th>machine_16</th>\n",
       "      <th>machine_17</th>\n",
       "      <th>machine_18</th>\n",
       "      <th>machine_19</th>\n",
       "      <th>timestamp</th>\n",
       "    </tr>\n",
       "  </thead>\n",
       "  <tbody>\n",
       "    <tr>\n",
       "      <td>0</td>\n",
       "      <td>12.626096</td>\n",
       "      <td>12.588243</td>\n",
       "      <td>12.610290</td>\n",
       "      <td>12.602282</td>\n",
       "      <td>-32.445524</td>\n",
       "      <td>12.597777</td>\n",
       "      <td>12.612846</td>\n",
       "      <td>12.601444</td>\n",
       "      <td>12.609624</td>\n",
       "      <td>12.609662</td>\n",
       "      <td>...</td>\n",
       "      <td>12.619190</td>\n",
       "      <td>12.604780</td>\n",
       "      <td>12.629911</td>\n",
       "      <td>12.630009</td>\n",
       "      <td>12.606581</td>\n",
       "      <td>12.623363</td>\n",
       "      <td>12.596252</td>\n",
       "      <td>12.606762</td>\n",
       "      <td>26.235836</td>\n",
       "      <td>2019-01-01 00:00:00.000000000</td>\n",
       "    </tr>\n",
       "    <tr>\n",
       "      <td>1</td>\n",
       "      <td>10.831994</td>\n",
       "      <td>10.822199</td>\n",
       "      <td>10.818875</td>\n",
       "      <td>10.824428</td>\n",
       "      <td>-47.568769</td>\n",
       "      <td>10.831517</td>\n",
       "      <td>10.836320</td>\n",
       "      <td>10.826737</td>\n",
       "      <td>10.824689</td>\n",
       "      <td>10.820247</td>\n",
       "      <td>...</td>\n",
       "      <td>10.823407</td>\n",
       "      <td>10.834779</td>\n",
       "      <td>10.830861</td>\n",
       "      <td>10.820446</td>\n",
       "      <td>10.835070</td>\n",
       "      <td>10.826310</td>\n",
       "      <td>10.839134</td>\n",
       "      <td>10.854633</td>\n",
       "      <td>27.479579</td>\n",
       "      <td>2019-01-01 08:00:09.603201067</td>\n",
       "    </tr>\n",
       "    <tr>\n",
       "      <td>2</td>\n",
       "      <td>21.083510</td>\n",
       "      <td>21.074661</td>\n",
       "      <td>21.073187</td>\n",
       "      <td>21.071526</td>\n",
       "      <td>-14.666918</td>\n",
       "      <td>21.070489</td>\n",
       "      <td>21.085829</td>\n",
       "      <td>21.075363</td>\n",
       "      <td>21.079024</td>\n",
       "      <td>21.076244</td>\n",
       "      <td>...</td>\n",
       "      <td>21.094514</td>\n",
       "      <td>21.076370</td>\n",
       "      <td>21.075715</td>\n",
       "      <td>21.096370</td>\n",
       "      <td>21.074654</td>\n",
       "      <td>21.095022</td>\n",
       "      <td>21.093089</td>\n",
       "      <td>21.082344</td>\n",
       "      <td>46.398619</td>\n",
       "      <td>2019-01-01 16:00:19.206402134</td>\n",
       "    </tr>\n",
       "    <tr>\n",
       "      <td>3</td>\n",
       "      <td>32.294495</td>\n",
       "      <td>32.284431</td>\n",
       "      <td>32.315311</td>\n",
       "      <td>32.302123</td>\n",
       "      <td>-2.589337</td>\n",
       "      <td>32.301228</td>\n",
       "      <td>32.302201</td>\n",
       "      <td>32.290894</td>\n",
       "      <td>32.299073</td>\n",
       "      <td>32.304338</td>\n",
       "      <td>...</td>\n",
       "      <td>32.296052</td>\n",
       "      <td>32.286100</td>\n",
       "      <td>32.303810</td>\n",
       "      <td>32.293472</td>\n",
       "      <td>32.297611</td>\n",
       "      <td>32.312872</td>\n",
       "      <td>32.301658</td>\n",
       "      <td>32.291544</td>\n",
       "      <td>9.107131</td>\n",
       "      <td>2019-01-02 00:00:28.809603201</td>\n",
       "    </tr>\n",
       "    <tr>\n",
       "      <td>4</td>\n",
       "      <td>28.057100</td>\n",
       "      <td>28.073949</td>\n",
       "      <td>28.074548</td>\n",
       "      <td>28.060949</td>\n",
       "      <td>13.215687</td>\n",
       "      <td>28.065453</td>\n",
       "      <td>28.067363</td>\n",
       "      <td>28.069493</td>\n",
       "      <td>28.073011</td>\n",
       "      <td>28.082102</td>\n",
       "      <td>...</td>\n",
       "      <td>28.077653</td>\n",
       "      <td>28.062272</td>\n",
       "      <td>28.068879</td>\n",
       "      <td>28.071815</td>\n",
       "      <td>28.087534</td>\n",
       "      <td>28.057312</td>\n",
       "      <td>28.080715</td>\n",
       "      <td>28.060725</td>\n",
       "      <td>-39.813131</td>\n",
       "      <td>2019-01-02 08:00:38.412804268</td>\n",
       "    </tr>\n",
       "    <tr>\n",
       "      <td>...</td>\n",
       "      <td>...</td>\n",
       "      <td>...</td>\n",
       "      <td>...</td>\n",
       "      <td>...</td>\n",
       "      <td>...</td>\n",
       "      <td>...</td>\n",
       "      <td>...</td>\n",
       "      <td>...</td>\n",
       "      <td>...</td>\n",
       "      <td>...</td>\n",
       "      <td>...</td>\n",
       "      <td>...</td>\n",
       "      <td>...</td>\n",
       "      <td>...</td>\n",
       "      <td>...</td>\n",
       "      <td>...</td>\n",
       "      <td>...</td>\n",
       "      <td>...</td>\n",
       "      <td>...</td>\n",
       "      <td>...</td>\n",
       "      <td>...</td>\n",
       "    </tr>\n",
       "    <tr>\n",
       "      <td>2995</td>\n",
       "      <td>0.004364</td>\n",
       "      <td>0.013339</td>\n",
       "      <td>0.003106</td>\n",
       "      <td>0.013286</td>\n",
       "      <td>-0.011858</td>\n",
       "      <td>0.001655</td>\n",
       "      <td>-0.002135</td>\n",
       "      <td>0.009483</td>\n",
       "      <td>-0.003035</td>\n",
       "      <td>-0.010182</td>\n",
       "      <td>...</td>\n",
       "      <td>-250.014305</td>\n",
       "      <td>-0.006658</td>\n",
       "      <td>0.006352</td>\n",
       "      <td>-0.002294</td>\n",
       "      <td>-0.009796</td>\n",
       "      <td>0.005583</td>\n",
       "      <td>0.010353</td>\n",
       "      <td>-0.008834</td>\n",
       "      <td>0.002403</td>\n",
       "      <td>2021-09-25 15:59:21.587195728</td>\n",
       "    </tr>\n",
       "    <tr>\n",
       "      <td>2996</td>\n",
       "      <td>0.004077</td>\n",
       "      <td>-250.014021</td>\n",
       "      <td>-0.011613</td>\n",
       "      <td>-0.005489</td>\n",
       "      <td>-0.007671</td>\n",
       "      <td>-0.014326</td>\n",
       "      <td>0.004764</td>\n",
       "      <td>0.009969</td>\n",
       "      <td>-0.011770</td>\n",
       "      <td>0.008064</td>\n",
       "      <td>...</td>\n",
       "      <td>-250.005644</td>\n",
       "      <td>-0.004941</td>\n",
       "      <td>-0.001518</td>\n",
       "      <td>0.011286</td>\n",
       "      <td>-0.002568</td>\n",
       "      <td>-0.000879</td>\n",
       "      <td>0.021279</td>\n",
       "      <td>0.021698</td>\n",
       "      <td>0.023516</td>\n",
       "      <td>2021-09-25 23:59:31.190396800</td>\n",
       "    </tr>\n",
       "    <tr>\n",
       "      <td>2997</td>\n",
       "      <td>0.007702</td>\n",
       "      <td>0.004022</td>\n",
       "      <td>-0.012264</td>\n",
       "      <td>-0.004715</td>\n",
       "      <td>0.004902</td>\n",
       "      <td>0.010797</td>\n",
       "      <td>-0.001314</td>\n",
       "      <td>-250.017283</td>\n",
       "      <td>-0.011090</td>\n",
       "      <td>0.022963</td>\n",
       "      <td>...</td>\n",
       "      <td>-0.007510</td>\n",
       "      <td>-0.011411</td>\n",
       "      <td>-0.002904</td>\n",
       "      <td>-0.011944</td>\n",
       "      <td>-0.001820</td>\n",
       "      <td>0.005554</td>\n",
       "      <td>-0.006833</td>\n",
       "      <td>-0.003337</td>\n",
       "      <td>0.002002</td>\n",
       "      <td>2021-09-26 07:59:40.793597872</td>\n",
       "    </tr>\n",
       "    <tr>\n",
       "      <td>2998</td>\n",
       "      <td>-0.008149</td>\n",
       "      <td>-0.000898</td>\n",
       "      <td>-250.010331</td>\n",
       "      <td>-0.021703</td>\n",
       "      <td>0.004602</td>\n",
       "      <td>0.009739</td>\n",
       "      <td>-0.017484</td>\n",
       "      <td>0.011695</td>\n",
       "      <td>0.003638</td>\n",
       "      <td>0.007192</td>\n",
       "      <td>...</td>\n",
       "      <td>0.000336</td>\n",
       "      <td>-0.007629</td>\n",
       "      <td>-0.013052</td>\n",
       "      <td>-0.006501</td>\n",
       "      <td>-0.002419</td>\n",
       "      <td>0.007716</td>\n",
       "      <td>-0.009880</td>\n",
       "      <td>0.002508</td>\n",
       "      <td>-0.004232</td>\n",
       "      <td>2021-09-26 15:59:50.396798944</td>\n",
       "    </tr>\n",
       "    <tr>\n",
       "      <td>2999</td>\n",
       "      <td>0.003465</td>\n",
       "      <td>0.006092</td>\n",
       "      <td>0.007304</td>\n",
       "      <td>0.013791</td>\n",
       "      <td>-0.003887</td>\n",
       "      <td>0.010639</td>\n",
       "      <td>0.003165</td>\n",
       "      <td>-0.010838</td>\n",
       "      <td>-0.001117</td>\n",
       "      <td>0.007093</td>\n",
       "      <td>...</td>\n",
       "      <td>-0.000462</td>\n",
       "      <td>-0.001710</td>\n",
       "      <td>0.002166</td>\n",
       "      <td>-0.006998</td>\n",
       "      <td>0.012273</td>\n",
       "      <td>-0.002468</td>\n",
       "      <td>0.013777</td>\n",
       "      <td>-0.012506</td>\n",
       "      <td>-0.008622</td>\n",
       "      <td>2021-09-27 00:00:00.000000000</td>\n",
       "    </tr>\n",
       "  </tbody>\n",
       "</table>\n",
       "<p>3000 rows × 21 columns</p>\n",
       "</div>"
      ],
      "text/plain": [
       "      machine_0   machine_1   machine_2  machine_3  machine_4  machine_5  \\\n",
       "0     12.626096   12.588243   12.610290  12.602282 -32.445524  12.597777   \n",
       "1     10.831994   10.822199   10.818875  10.824428 -47.568769  10.831517   \n",
       "2     21.083510   21.074661   21.073187  21.071526 -14.666918  21.070489   \n",
       "3     32.294495   32.284431   32.315311  32.302123  -2.589337  32.301228   \n",
       "4     28.057100   28.073949   28.074548  28.060949  13.215687  28.065453   \n",
       "...         ...         ...         ...        ...        ...        ...   \n",
       "2995   0.004364    0.013339    0.003106   0.013286  -0.011858   0.001655   \n",
       "2996   0.004077 -250.014021   -0.011613  -0.005489  -0.007671  -0.014326   \n",
       "2997   0.007702    0.004022   -0.012264  -0.004715   0.004902   0.010797   \n",
       "2998  -0.008149   -0.000898 -250.010331  -0.021703   0.004602   0.009739   \n",
       "2999   0.003465    0.006092    0.007304   0.013791  -0.003887   0.010639   \n",
       "\n",
       "      machine_6   machine_7  machine_8  machine_9  ...  machine_11  \\\n",
       "0     12.612846   12.601444  12.609624  12.609662  ...   12.619190   \n",
       "1     10.836320   10.826737  10.824689  10.820247  ...   10.823407   \n",
       "2     21.085829   21.075363  21.079024  21.076244  ...   21.094514   \n",
       "3     32.302201   32.290894  32.299073  32.304338  ...   32.296052   \n",
       "4     28.067363   28.069493  28.073011  28.082102  ...   28.077653   \n",
       "...         ...         ...        ...        ...  ...         ...   \n",
       "2995  -0.002135    0.009483  -0.003035  -0.010182  ... -250.014305   \n",
       "2996   0.004764    0.009969  -0.011770   0.008064  ... -250.005644   \n",
       "2997  -0.001314 -250.017283  -0.011090   0.022963  ...   -0.007510   \n",
       "2998  -0.017484    0.011695   0.003638   0.007192  ...    0.000336   \n",
       "2999   0.003165   -0.010838  -0.001117   0.007093  ...   -0.000462   \n",
       "\n",
       "      machine_12  machine_13  machine_14  machine_15  machine_16  machine_17  \\\n",
       "0      12.604780   12.629911   12.630009   12.606581   12.623363   12.596252   \n",
       "1      10.834779   10.830861   10.820446   10.835070   10.826310   10.839134   \n",
       "2      21.076370   21.075715   21.096370   21.074654   21.095022   21.093089   \n",
       "3      32.286100   32.303810   32.293472   32.297611   32.312872   32.301658   \n",
       "4      28.062272   28.068879   28.071815   28.087534   28.057312   28.080715   \n",
       "...          ...         ...         ...         ...         ...         ...   \n",
       "2995   -0.006658    0.006352   -0.002294   -0.009796    0.005583    0.010353   \n",
       "2996   -0.004941   -0.001518    0.011286   -0.002568   -0.000879    0.021279   \n",
       "2997   -0.011411   -0.002904   -0.011944   -0.001820    0.005554   -0.006833   \n",
       "2998   -0.007629   -0.013052   -0.006501   -0.002419    0.007716   -0.009880   \n",
       "2999   -0.001710    0.002166   -0.006998    0.012273   -0.002468    0.013777   \n",
       "\n",
       "      machine_18  machine_19                      timestamp  \n",
       "0      12.606762   26.235836  2019-01-01 00:00:00.000000000  \n",
       "1      10.854633   27.479579  2019-01-01 08:00:09.603201067  \n",
       "2      21.082344   46.398619  2019-01-01 16:00:19.206402134  \n",
       "3      32.291544    9.107131  2019-01-02 00:00:28.809603201  \n",
       "4      28.060725  -39.813131  2019-01-02 08:00:38.412804268  \n",
       "...          ...         ...                            ...  \n",
       "2995   -0.008834    0.002403  2021-09-25 15:59:21.587195728  \n",
       "2996    0.021698    0.023516  2021-09-25 23:59:31.190396800  \n",
       "2997   -0.003337    0.002002  2021-09-26 07:59:40.793597872  \n",
       "2998    0.002508   -0.004232  2021-09-26 15:59:50.396798944  \n",
       "2999   -0.012506   -0.008622  2021-09-27 00:00:00.000000000  \n",
       "\n",
       "[3000 rows x 21 columns]"
      ]
     },
     "execution_count": 107,
     "metadata": {},
     "output_type": "execute_result"
    }
   ],
   "source": [
    "all_machines_df"
   ]
  },
  {
   "cell_type": "code",
   "execution_count": 106,
   "metadata": {},
   "outputs": [],
   "source": [
    "all_machines_df['timestamp'] = machine_df['Unnamed: 0']"
   ]
  },
  {
   "cell_type": "code",
   "execution_count": 108,
   "metadata": {},
   "outputs": [
    {
     "data": {
      "text/plain": [
       "(3000, 21)"
      ]
     },
     "execution_count": 108,
     "metadata": {},
     "output_type": "execute_result"
    }
   ],
   "source": [
    "all_machines_df.shape"
   ]
  },
  {
   "cell_type": "code",
   "execution_count": 109,
   "metadata": {},
   "outputs": [],
   "source": [
    "all_machines_df.index = all_machines_df.timestamp"
   ]
  },
  {
   "cell_type": "code",
   "execution_count": 110,
   "metadata": {},
   "outputs": [
    {
     "data": {
      "text/html": [
       "<div>\n",
       "<style scoped>\n",
       "    .dataframe tbody tr th:only-of-type {\n",
       "        vertical-align: middle;\n",
       "    }\n",
       "\n",
       "    .dataframe tbody tr th {\n",
       "        vertical-align: top;\n",
       "    }\n",
       "\n",
       "    .dataframe thead th {\n",
       "        text-align: right;\n",
       "    }\n",
       "</style>\n",
       "<table border=\"1\" class=\"dataframe\">\n",
       "  <thead>\n",
       "    <tr style=\"text-align: right;\">\n",
       "      <th></th>\n",
       "      <th>machine_0</th>\n",
       "      <th>machine_1</th>\n",
       "      <th>machine_2</th>\n",
       "      <th>machine_3</th>\n",
       "      <th>machine_4</th>\n",
       "      <th>machine_5</th>\n",
       "      <th>machine_6</th>\n",
       "      <th>machine_7</th>\n",
       "      <th>machine_8</th>\n",
       "      <th>machine_9</th>\n",
       "      <th>...</th>\n",
       "      <th>machine_11</th>\n",
       "      <th>machine_12</th>\n",
       "      <th>machine_13</th>\n",
       "      <th>machine_14</th>\n",
       "      <th>machine_15</th>\n",
       "      <th>machine_16</th>\n",
       "      <th>machine_17</th>\n",
       "      <th>machine_18</th>\n",
       "      <th>machine_19</th>\n",
       "      <th>timestamp</th>\n",
       "    </tr>\n",
       "    <tr>\n",
       "      <th>timestamp</th>\n",
       "      <th></th>\n",
       "      <th></th>\n",
       "      <th></th>\n",
       "      <th></th>\n",
       "      <th></th>\n",
       "      <th></th>\n",
       "      <th></th>\n",
       "      <th></th>\n",
       "      <th></th>\n",
       "      <th></th>\n",
       "      <th></th>\n",
       "      <th></th>\n",
       "      <th></th>\n",
       "      <th></th>\n",
       "      <th></th>\n",
       "      <th></th>\n",
       "      <th></th>\n",
       "      <th></th>\n",
       "      <th></th>\n",
       "      <th></th>\n",
       "      <th></th>\n",
       "    </tr>\n",
       "  </thead>\n",
       "  <tbody>\n",
       "    <tr>\n",
       "      <td>2019-01-01 00:00:00.000000000</td>\n",
       "      <td>12.626096</td>\n",
       "      <td>12.588243</td>\n",
       "      <td>12.610290</td>\n",
       "      <td>12.602282</td>\n",
       "      <td>-32.445524</td>\n",
       "      <td>12.597777</td>\n",
       "      <td>12.612846</td>\n",
       "      <td>12.601444</td>\n",
       "      <td>12.609624</td>\n",
       "      <td>12.609662</td>\n",
       "      <td>...</td>\n",
       "      <td>12.619190</td>\n",
       "      <td>12.604780</td>\n",
       "      <td>12.629911</td>\n",
       "      <td>12.630009</td>\n",
       "      <td>12.606581</td>\n",
       "      <td>12.623363</td>\n",
       "      <td>12.596252</td>\n",
       "      <td>12.606762</td>\n",
       "      <td>26.235836</td>\n",
       "      <td>2019-01-01 00:00:00.000000000</td>\n",
       "    </tr>\n",
       "    <tr>\n",
       "      <td>2019-01-01 08:00:09.603201067</td>\n",
       "      <td>10.831994</td>\n",
       "      <td>10.822199</td>\n",
       "      <td>10.818875</td>\n",
       "      <td>10.824428</td>\n",
       "      <td>-47.568769</td>\n",
       "      <td>10.831517</td>\n",
       "      <td>10.836320</td>\n",
       "      <td>10.826737</td>\n",
       "      <td>10.824689</td>\n",
       "      <td>10.820247</td>\n",
       "      <td>...</td>\n",
       "      <td>10.823407</td>\n",
       "      <td>10.834779</td>\n",
       "      <td>10.830861</td>\n",
       "      <td>10.820446</td>\n",
       "      <td>10.835070</td>\n",
       "      <td>10.826310</td>\n",
       "      <td>10.839134</td>\n",
       "      <td>10.854633</td>\n",
       "      <td>27.479579</td>\n",
       "      <td>2019-01-01 08:00:09.603201067</td>\n",
       "    </tr>\n",
       "    <tr>\n",
       "      <td>2019-01-01 16:00:19.206402134</td>\n",
       "      <td>21.083510</td>\n",
       "      <td>21.074661</td>\n",
       "      <td>21.073187</td>\n",
       "      <td>21.071526</td>\n",
       "      <td>-14.666918</td>\n",
       "      <td>21.070489</td>\n",
       "      <td>21.085829</td>\n",
       "      <td>21.075363</td>\n",
       "      <td>21.079024</td>\n",
       "      <td>21.076244</td>\n",
       "      <td>...</td>\n",
       "      <td>21.094514</td>\n",
       "      <td>21.076370</td>\n",
       "      <td>21.075715</td>\n",
       "      <td>21.096370</td>\n",
       "      <td>21.074654</td>\n",
       "      <td>21.095022</td>\n",
       "      <td>21.093089</td>\n",
       "      <td>21.082344</td>\n",
       "      <td>46.398619</td>\n",
       "      <td>2019-01-01 16:00:19.206402134</td>\n",
       "    </tr>\n",
       "    <tr>\n",
       "      <td>2019-01-02 00:00:28.809603201</td>\n",
       "      <td>32.294495</td>\n",
       "      <td>32.284431</td>\n",
       "      <td>32.315311</td>\n",
       "      <td>32.302123</td>\n",
       "      <td>-2.589337</td>\n",
       "      <td>32.301228</td>\n",
       "      <td>32.302201</td>\n",
       "      <td>32.290894</td>\n",
       "      <td>32.299073</td>\n",
       "      <td>32.304338</td>\n",
       "      <td>...</td>\n",
       "      <td>32.296052</td>\n",
       "      <td>32.286100</td>\n",
       "      <td>32.303810</td>\n",
       "      <td>32.293472</td>\n",
       "      <td>32.297611</td>\n",
       "      <td>32.312872</td>\n",
       "      <td>32.301658</td>\n",
       "      <td>32.291544</td>\n",
       "      <td>9.107131</td>\n",
       "      <td>2019-01-02 00:00:28.809603201</td>\n",
       "    </tr>\n",
       "    <tr>\n",
       "      <td>2019-01-02 08:00:38.412804268</td>\n",
       "      <td>28.057100</td>\n",
       "      <td>28.073949</td>\n",
       "      <td>28.074548</td>\n",
       "      <td>28.060949</td>\n",
       "      <td>13.215687</td>\n",
       "      <td>28.065453</td>\n",
       "      <td>28.067363</td>\n",
       "      <td>28.069493</td>\n",
       "      <td>28.073011</td>\n",
       "      <td>28.082102</td>\n",
       "      <td>...</td>\n",
       "      <td>28.077653</td>\n",
       "      <td>28.062272</td>\n",
       "      <td>28.068879</td>\n",
       "      <td>28.071815</td>\n",
       "      <td>28.087534</td>\n",
       "      <td>28.057312</td>\n",
       "      <td>28.080715</td>\n",
       "      <td>28.060725</td>\n",
       "      <td>-39.813131</td>\n",
       "      <td>2019-01-02 08:00:38.412804268</td>\n",
       "    </tr>\n",
       "    <tr>\n",
       "      <td>...</td>\n",
       "      <td>...</td>\n",
       "      <td>...</td>\n",
       "      <td>...</td>\n",
       "      <td>...</td>\n",
       "      <td>...</td>\n",
       "      <td>...</td>\n",
       "      <td>...</td>\n",
       "      <td>...</td>\n",
       "      <td>...</td>\n",
       "      <td>...</td>\n",
       "      <td>...</td>\n",
       "      <td>...</td>\n",
       "      <td>...</td>\n",
       "      <td>...</td>\n",
       "      <td>...</td>\n",
       "      <td>...</td>\n",
       "      <td>...</td>\n",
       "      <td>...</td>\n",
       "      <td>...</td>\n",
       "      <td>...</td>\n",
       "      <td>...</td>\n",
       "    </tr>\n",
       "    <tr>\n",
       "      <td>2021-09-25 15:59:21.587195728</td>\n",
       "      <td>0.004364</td>\n",
       "      <td>0.013339</td>\n",
       "      <td>0.003106</td>\n",
       "      <td>0.013286</td>\n",
       "      <td>-0.011858</td>\n",
       "      <td>0.001655</td>\n",
       "      <td>-0.002135</td>\n",
       "      <td>0.009483</td>\n",
       "      <td>-0.003035</td>\n",
       "      <td>-0.010182</td>\n",
       "      <td>...</td>\n",
       "      <td>-250.014305</td>\n",
       "      <td>-0.006658</td>\n",
       "      <td>0.006352</td>\n",
       "      <td>-0.002294</td>\n",
       "      <td>-0.009796</td>\n",
       "      <td>0.005583</td>\n",
       "      <td>0.010353</td>\n",
       "      <td>-0.008834</td>\n",
       "      <td>0.002403</td>\n",
       "      <td>2021-09-25 15:59:21.587195728</td>\n",
       "    </tr>\n",
       "    <tr>\n",
       "      <td>2021-09-25 23:59:31.190396800</td>\n",
       "      <td>0.004077</td>\n",
       "      <td>-250.014021</td>\n",
       "      <td>-0.011613</td>\n",
       "      <td>-0.005489</td>\n",
       "      <td>-0.007671</td>\n",
       "      <td>-0.014326</td>\n",
       "      <td>0.004764</td>\n",
       "      <td>0.009969</td>\n",
       "      <td>-0.011770</td>\n",
       "      <td>0.008064</td>\n",
       "      <td>...</td>\n",
       "      <td>-250.005644</td>\n",
       "      <td>-0.004941</td>\n",
       "      <td>-0.001518</td>\n",
       "      <td>0.011286</td>\n",
       "      <td>-0.002568</td>\n",
       "      <td>-0.000879</td>\n",
       "      <td>0.021279</td>\n",
       "      <td>0.021698</td>\n",
       "      <td>0.023516</td>\n",
       "      <td>2021-09-25 23:59:31.190396800</td>\n",
       "    </tr>\n",
       "    <tr>\n",
       "      <td>2021-09-26 07:59:40.793597872</td>\n",
       "      <td>0.007702</td>\n",
       "      <td>0.004022</td>\n",
       "      <td>-0.012264</td>\n",
       "      <td>-0.004715</td>\n",
       "      <td>0.004902</td>\n",
       "      <td>0.010797</td>\n",
       "      <td>-0.001314</td>\n",
       "      <td>-250.017283</td>\n",
       "      <td>-0.011090</td>\n",
       "      <td>0.022963</td>\n",
       "      <td>...</td>\n",
       "      <td>-0.007510</td>\n",
       "      <td>-0.011411</td>\n",
       "      <td>-0.002904</td>\n",
       "      <td>-0.011944</td>\n",
       "      <td>-0.001820</td>\n",
       "      <td>0.005554</td>\n",
       "      <td>-0.006833</td>\n",
       "      <td>-0.003337</td>\n",
       "      <td>0.002002</td>\n",
       "      <td>2021-09-26 07:59:40.793597872</td>\n",
       "    </tr>\n",
       "    <tr>\n",
       "      <td>2021-09-26 15:59:50.396798944</td>\n",
       "      <td>-0.008149</td>\n",
       "      <td>-0.000898</td>\n",
       "      <td>-250.010331</td>\n",
       "      <td>-0.021703</td>\n",
       "      <td>0.004602</td>\n",
       "      <td>0.009739</td>\n",
       "      <td>-0.017484</td>\n",
       "      <td>0.011695</td>\n",
       "      <td>0.003638</td>\n",
       "      <td>0.007192</td>\n",
       "      <td>...</td>\n",
       "      <td>0.000336</td>\n",
       "      <td>-0.007629</td>\n",
       "      <td>-0.013052</td>\n",
       "      <td>-0.006501</td>\n",
       "      <td>-0.002419</td>\n",
       "      <td>0.007716</td>\n",
       "      <td>-0.009880</td>\n",
       "      <td>0.002508</td>\n",
       "      <td>-0.004232</td>\n",
       "      <td>2021-09-26 15:59:50.396798944</td>\n",
       "    </tr>\n",
       "    <tr>\n",
       "      <td>2021-09-27 00:00:00.000000000</td>\n",
       "      <td>0.003465</td>\n",
       "      <td>0.006092</td>\n",
       "      <td>0.007304</td>\n",
       "      <td>0.013791</td>\n",
       "      <td>-0.003887</td>\n",
       "      <td>0.010639</td>\n",
       "      <td>0.003165</td>\n",
       "      <td>-0.010838</td>\n",
       "      <td>-0.001117</td>\n",
       "      <td>0.007093</td>\n",
       "      <td>...</td>\n",
       "      <td>-0.000462</td>\n",
       "      <td>-0.001710</td>\n",
       "      <td>0.002166</td>\n",
       "      <td>-0.006998</td>\n",
       "      <td>0.012273</td>\n",
       "      <td>-0.002468</td>\n",
       "      <td>0.013777</td>\n",
       "      <td>-0.012506</td>\n",
       "      <td>-0.008622</td>\n",
       "      <td>2021-09-27 00:00:00.000000000</td>\n",
       "    </tr>\n",
       "  </tbody>\n",
       "</table>\n",
       "<p>3000 rows × 21 columns</p>\n",
       "</div>"
      ],
      "text/plain": [
       "                               machine_0   machine_1   machine_2  machine_3  \\\n",
       "timestamp                                                                     \n",
       "2019-01-01 00:00:00.000000000  12.626096   12.588243   12.610290  12.602282   \n",
       "2019-01-01 08:00:09.603201067  10.831994   10.822199   10.818875  10.824428   \n",
       "2019-01-01 16:00:19.206402134  21.083510   21.074661   21.073187  21.071526   \n",
       "2019-01-02 00:00:28.809603201  32.294495   32.284431   32.315311  32.302123   \n",
       "2019-01-02 08:00:38.412804268  28.057100   28.073949   28.074548  28.060949   \n",
       "...                                  ...         ...         ...        ...   \n",
       "2021-09-25 15:59:21.587195728   0.004364    0.013339    0.003106   0.013286   \n",
       "2021-09-25 23:59:31.190396800   0.004077 -250.014021   -0.011613  -0.005489   \n",
       "2021-09-26 07:59:40.793597872   0.007702    0.004022   -0.012264  -0.004715   \n",
       "2021-09-26 15:59:50.396798944  -0.008149   -0.000898 -250.010331  -0.021703   \n",
       "2021-09-27 00:00:00.000000000   0.003465    0.006092    0.007304   0.013791   \n",
       "\n",
       "                               machine_4  machine_5  machine_6   machine_7  \\\n",
       "timestamp                                                                    \n",
       "2019-01-01 00:00:00.000000000 -32.445524  12.597777  12.612846   12.601444   \n",
       "2019-01-01 08:00:09.603201067 -47.568769  10.831517  10.836320   10.826737   \n",
       "2019-01-01 16:00:19.206402134 -14.666918  21.070489  21.085829   21.075363   \n",
       "2019-01-02 00:00:28.809603201  -2.589337  32.301228  32.302201   32.290894   \n",
       "2019-01-02 08:00:38.412804268  13.215687  28.065453  28.067363   28.069493   \n",
       "...                                  ...        ...        ...         ...   \n",
       "2021-09-25 15:59:21.587195728  -0.011858   0.001655  -0.002135    0.009483   \n",
       "2021-09-25 23:59:31.190396800  -0.007671  -0.014326   0.004764    0.009969   \n",
       "2021-09-26 07:59:40.793597872   0.004902   0.010797  -0.001314 -250.017283   \n",
       "2021-09-26 15:59:50.396798944   0.004602   0.009739  -0.017484    0.011695   \n",
       "2021-09-27 00:00:00.000000000  -0.003887   0.010639   0.003165   -0.010838   \n",
       "\n",
       "                               machine_8  machine_9  ...  machine_11  \\\n",
       "timestamp                                            ...               \n",
       "2019-01-01 00:00:00.000000000  12.609624  12.609662  ...   12.619190   \n",
       "2019-01-01 08:00:09.603201067  10.824689  10.820247  ...   10.823407   \n",
       "2019-01-01 16:00:19.206402134  21.079024  21.076244  ...   21.094514   \n",
       "2019-01-02 00:00:28.809603201  32.299073  32.304338  ...   32.296052   \n",
       "2019-01-02 08:00:38.412804268  28.073011  28.082102  ...   28.077653   \n",
       "...                                  ...        ...  ...         ...   \n",
       "2021-09-25 15:59:21.587195728  -0.003035  -0.010182  ... -250.014305   \n",
       "2021-09-25 23:59:31.190396800  -0.011770   0.008064  ... -250.005644   \n",
       "2021-09-26 07:59:40.793597872  -0.011090   0.022963  ...   -0.007510   \n",
       "2021-09-26 15:59:50.396798944   0.003638   0.007192  ...    0.000336   \n",
       "2021-09-27 00:00:00.000000000  -0.001117   0.007093  ...   -0.000462   \n",
       "\n",
       "                               machine_12  machine_13  machine_14  machine_15  \\\n",
       "timestamp                                                                       \n",
       "2019-01-01 00:00:00.000000000   12.604780   12.629911   12.630009   12.606581   \n",
       "2019-01-01 08:00:09.603201067   10.834779   10.830861   10.820446   10.835070   \n",
       "2019-01-01 16:00:19.206402134   21.076370   21.075715   21.096370   21.074654   \n",
       "2019-01-02 00:00:28.809603201   32.286100   32.303810   32.293472   32.297611   \n",
       "2019-01-02 08:00:38.412804268   28.062272   28.068879   28.071815   28.087534   \n",
       "...                                   ...         ...         ...         ...   \n",
       "2021-09-25 15:59:21.587195728   -0.006658    0.006352   -0.002294   -0.009796   \n",
       "2021-09-25 23:59:31.190396800   -0.004941   -0.001518    0.011286   -0.002568   \n",
       "2021-09-26 07:59:40.793597872   -0.011411   -0.002904   -0.011944   -0.001820   \n",
       "2021-09-26 15:59:50.396798944   -0.007629   -0.013052   -0.006501   -0.002419   \n",
       "2021-09-27 00:00:00.000000000   -0.001710    0.002166   -0.006998    0.012273   \n",
       "\n",
       "                               machine_16  machine_17  machine_18  machine_19  \\\n",
       "timestamp                                                                       \n",
       "2019-01-01 00:00:00.000000000   12.623363   12.596252   12.606762   26.235836   \n",
       "2019-01-01 08:00:09.603201067   10.826310   10.839134   10.854633   27.479579   \n",
       "2019-01-01 16:00:19.206402134   21.095022   21.093089   21.082344   46.398619   \n",
       "2019-01-02 00:00:28.809603201   32.312872   32.301658   32.291544    9.107131   \n",
       "2019-01-02 08:00:38.412804268   28.057312   28.080715   28.060725  -39.813131   \n",
       "...                                   ...         ...         ...         ...   \n",
       "2021-09-25 15:59:21.587195728    0.005583    0.010353   -0.008834    0.002403   \n",
       "2021-09-25 23:59:31.190396800   -0.000879    0.021279    0.021698    0.023516   \n",
       "2021-09-26 07:59:40.793597872    0.005554   -0.006833   -0.003337    0.002002   \n",
       "2021-09-26 15:59:50.396798944    0.007716   -0.009880    0.002508   -0.004232   \n",
       "2021-09-27 00:00:00.000000000   -0.002468    0.013777   -0.012506   -0.008622   \n",
       "\n",
       "                                                   timestamp  \n",
       "timestamp                                                     \n",
       "2019-01-01 00:00:00.000000000  2019-01-01 00:00:00.000000000  \n",
       "2019-01-01 08:00:09.603201067  2019-01-01 08:00:09.603201067  \n",
       "2019-01-01 16:00:19.206402134  2019-01-01 16:00:19.206402134  \n",
       "2019-01-02 00:00:28.809603201  2019-01-02 00:00:28.809603201  \n",
       "2019-01-02 08:00:38.412804268  2019-01-02 08:00:38.412804268  \n",
       "...                                                      ...  \n",
       "2021-09-25 15:59:21.587195728  2021-09-25 15:59:21.587195728  \n",
       "2021-09-25 23:59:31.190396800  2021-09-25 23:59:31.190396800  \n",
       "2021-09-26 07:59:40.793597872  2021-09-26 07:59:40.793597872  \n",
       "2021-09-26 15:59:50.396798944  2021-09-26 15:59:50.396798944  \n",
       "2021-09-27 00:00:00.000000000  2021-09-27 00:00:00.000000000  \n",
       "\n",
       "[3000 rows x 21 columns]"
      ]
     },
     "execution_count": 110,
     "metadata": {},
     "output_type": "execute_result"
    }
   ],
   "source": [
    "all_machines_df"
   ]
  },
  {
   "cell_type": "code",
   "execution_count": 112,
   "metadata": {},
   "outputs": [
    {
     "data": {
      "text/plain": [
       "[<matplotlib.lines.Line2D at 0x24c73976888>]"
      ]
     },
     "execution_count": 112,
     "metadata": {},
     "output_type": "execute_result"
    },
    {
     "data": {
      "image/png": "[encoded data removed]",
      "text/plain": [
       "<Figure size 432x288 with 1 Axes>"
      ]
     },
     "metadata": {
      "needs_background": "light"
     },
     "output_type": "display_data"
    }
   ],
   "source": [
    "pyplot.plot(all_machines_df.index, all_machines_df.machine_11)"
   ]
  },
  {
   "cell_type": "markdown",
   "metadata": {},
   "source": [
    "### The code and the figure or the graph below shows the pattern  or the behaviour of all the machines for over 3000 data points\n"
   ]
  },
  {
   "cell_type": "code",
   "execution_count": 134,
   "metadata": {},
   "outputs": [
    {
     "data": {
      "image/png": "[encoded data removed]",
      "text/plain": [
       "<Figure size 432x288 with 20 Axes>"
      ]
     },
     "metadata": {
      "needs_background": "light"
     },
     "output_type": "display_data"
    }
   ],
   "source": [
    "# plot first few images\n",
    "for i in range(1, 21):\n",
    "    # define subplot\n",
    "    pyplot.subplot(5, 4, i)\n",
    "    # plot raw pixel data\n",
    "    i = i-1\n",
    "    machine = \"machine_\"+str(i)\n",
    "    pyplot.plot(all_machines_df.index[:1000], all_machines_df[machine][:1000])\n",
    "# show the figure\n",
    "pyplot.show()"
   ]
  },
  {
   "cell_type": "code",
   "execution_count": 182,
   "metadata": {},
   "outputs": [],
   "source": [
    "all_machines_df_new = all_machines_df.drop(\"timestamp\",  axis = 1)"
   ]
  },
  {
   "cell_type": "code",
   "execution_count": 183,
   "metadata": {},
   "outputs": [
    {
     "data": {
      "text/plain": [
       "EllipticEnvelope(assume_centered=False, contamination=0.035, random_state=None,\n",
       "                 store_precision=True, support_fraction=None)"
      ]
     },
     "execution_count": 183,
     "metadata": {},
     "output_type": "execute_result"
    }
   ],
   "source": [
    "# EllipticEnvelope uses Mahalanobis distance \n",
    "from sklearn.covariance import EllipticEnvelope\n",
    "# from sklearn.ensemble import IsolationForest\n",
    "# from sklearn.neighbors import LocalOutlierFactor\n",
    "\n",
    "\n",
    "outlier_frac = 0.035 #Fraction of outiers\n",
    "\n",
    "ell = EllipticEnvelope(contamination=outlier_frac)\n",
    "ell.fit(all_machines_df_new)"
   ]
  },
  {
   "cell_type": "code",
   "execution_count": 186,
   "metadata": {},
   "outputs": [
    {
     "name": "stdout",
     "output_type": "stream",
     "text": [
      "105\n"
     ]
    },
    {
     "name": "stderr",
     "output_type": "stream",
     "text": [
      "C:\\Users\\veena\\AppData\\Roaming\\Python\\Python37\\site-packages\\ipykernel_launcher.py:5: DeprecationWarning: `itemfreq` is deprecated!\n",
      "`itemfreq` is deprecated and will be removed in a future version. Use instead `np.unique(..., return_counts=True)`\n",
      "  \"\"\"\n"
     ]
    },
    {
     "data": {
      "text/plain": [
       "array([1, 1, 1, ..., 1, 1, 1])"
      ]
     },
     "execution_count": 186,
     "metadata": {},
     "output_type": "execute_result"
    }
   ],
   "source": [
    "from scipy import stats\n",
    "\n",
    "pred = ell.predict(all_machines_df_new)\n",
    "print(sum(pred == -1) ) # Outlier points are predicted as -1\n",
    "stats.itemfreq(pred)\n",
    "\n",
    "pred"
   ]
  },
  {
   "cell_type": "code",
   "execution_count": 187,
   "metadata": {},
   "outputs": [
    {
     "data": {
      "text/plain": [
       "(3000, 21)"
      ]
     },
     "execution_count": 187,
     "metadata": {},
     "output_type": "execute_result"
    }
   ],
   "source": [
    "# Attaching Outlier label to the PCs matrix Using reshape and hstack that work with ndarrays\n",
    "\n",
    "all_machines_df_new_out = np.hstack((all_machines_df_new, pred.reshape(3000,1)))\n",
    "all_machines_df_new_out.shape"
   ]
  },
  {
   "cell_type": "code",
   "execution_count": 188,
   "metadata": {},
   "outputs": [
    {
     "data": {
      "text/plain": [
       "['machine_0',\n",
       " 'machine_1',\n",
       " 'machine_2',\n",
       " 'machine_3',\n",
       " 'machine_4',\n",
       " 'machine_5',\n",
       " 'machine_6',\n",
       " 'machine_7',\n",
       " 'machine_8',\n",
       " 'machine_9',\n",
       " 'machine_10',\n",
       " 'machine_11',\n",
       " 'machine_12',\n",
       " 'machine_13',\n",
       " 'machine_14',\n",
       " 'machine_15',\n",
       " 'machine_16',\n",
       " 'machine_17',\n",
       " 'machine_18',\n",
       " 'machine_19']"
      ]
     },
     "execution_count": 188,
     "metadata": {},
     "output_type": "execute_result"
    }
   ],
   "source": [
    "cols = list(all_machines_df_new)\n",
    "cols"
   ]
  },
  {
   "cell_type": "code",
   "execution_count": 189,
   "metadata": {},
   "outputs": [
    {
     "data": {
      "text/html": [
       "<div>\n",
       "<style scoped>\n",
       "    .dataframe tbody tr th:only-of-type {\n",
       "        vertical-align: middle;\n",
       "    }\n",
       "\n",
       "    .dataframe tbody tr th {\n",
       "        vertical-align: top;\n",
       "    }\n",
       "\n",
       "    .dataframe thead th {\n",
       "        text-align: right;\n",
       "    }\n",
       "</style>\n",
       "<table border=\"1\" class=\"dataframe\">\n",
       "  <thead>\n",
       "    <tr style=\"text-align: right;\">\n",
       "      <th></th>\n",
       "      <th>machine_0</th>\n",
       "      <th>machine_1</th>\n",
       "      <th>machine_2</th>\n",
       "      <th>machine_3</th>\n",
       "      <th>machine_4</th>\n",
       "      <th>machine_5</th>\n",
       "      <th>machine_6</th>\n",
       "      <th>machine_7</th>\n",
       "      <th>machine_8</th>\n",
       "      <th>machine_9</th>\n",
       "      <th>...</th>\n",
       "      <th>machine_11</th>\n",
       "      <th>machine_12</th>\n",
       "      <th>machine_13</th>\n",
       "      <th>machine_14</th>\n",
       "      <th>machine_15</th>\n",
       "      <th>machine_16</th>\n",
       "      <th>machine_17</th>\n",
       "      <th>machine_18</th>\n",
       "      <th>machine_19</th>\n",
       "      <th>outliers</th>\n",
       "    </tr>\n",
       "    <tr>\n",
       "      <th>timestamp</th>\n",
       "      <th></th>\n",
       "      <th></th>\n",
       "      <th></th>\n",
       "      <th></th>\n",
       "      <th></th>\n",
       "      <th></th>\n",
       "      <th></th>\n",
       "      <th></th>\n",
       "      <th></th>\n",
       "      <th></th>\n",
       "      <th></th>\n",
       "      <th></th>\n",
       "      <th></th>\n",
       "      <th></th>\n",
       "      <th></th>\n",
       "      <th></th>\n",
       "      <th></th>\n",
       "      <th></th>\n",
       "      <th></th>\n",
       "      <th></th>\n",
       "      <th></th>\n",
       "    </tr>\n",
       "  </thead>\n",
       "  <tbody>\n",
       "    <tr>\n",
       "      <td>2019-01-01 00:00:00.000000000</td>\n",
       "      <td>12.626096</td>\n",
       "      <td>12.588243</td>\n",
       "      <td>12.610290</td>\n",
       "      <td>12.602282</td>\n",
       "      <td>-32.445524</td>\n",
       "      <td>12.597777</td>\n",
       "      <td>12.612846</td>\n",
       "      <td>12.601444</td>\n",
       "      <td>12.609624</td>\n",
       "      <td>12.609662</td>\n",
       "      <td>...</td>\n",
       "      <td>12.619190</td>\n",
       "      <td>12.604780</td>\n",
       "      <td>12.629911</td>\n",
       "      <td>12.630009</td>\n",
       "      <td>12.606581</td>\n",
       "      <td>12.623363</td>\n",
       "      <td>12.596252</td>\n",
       "      <td>12.606762</td>\n",
       "      <td>26.235836</td>\n",
       "      <td>1.0</td>\n",
       "    </tr>\n",
       "    <tr>\n",
       "      <td>2019-01-01 08:00:09.603201067</td>\n",
       "      <td>10.831994</td>\n",
       "      <td>10.822199</td>\n",
       "      <td>10.818875</td>\n",
       "      <td>10.824428</td>\n",
       "      <td>-47.568769</td>\n",
       "      <td>10.831517</td>\n",
       "      <td>10.836320</td>\n",
       "      <td>10.826737</td>\n",
       "      <td>10.824689</td>\n",
       "      <td>10.820247</td>\n",
       "      <td>...</td>\n",
       "      <td>10.823407</td>\n",
       "      <td>10.834779</td>\n",
       "      <td>10.830861</td>\n",
       "      <td>10.820446</td>\n",
       "      <td>10.835070</td>\n",
       "      <td>10.826310</td>\n",
       "      <td>10.839134</td>\n",
       "      <td>10.854633</td>\n",
       "      <td>27.479579</td>\n",
       "      <td>1.0</td>\n",
       "    </tr>\n",
       "    <tr>\n",
       "      <td>2019-01-01 16:00:19.206402134</td>\n",
       "      <td>21.083510</td>\n",
       "      <td>21.074661</td>\n",
       "      <td>21.073187</td>\n",
       "      <td>21.071526</td>\n",
       "      <td>-14.666918</td>\n",
       "      <td>21.070489</td>\n",
       "      <td>21.085829</td>\n",
       "      <td>21.075363</td>\n",
       "      <td>21.079024</td>\n",
       "      <td>21.076244</td>\n",
       "      <td>...</td>\n",
       "      <td>21.094514</td>\n",
       "      <td>21.076370</td>\n",
       "      <td>21.075715</td>\n",
       "      <td>21.096370</td>\n",
       "      <td>21.074654</td>\n",
       "      <td>21.095022</td>\n",
       "      <td>21.093089</td>\n",
       "      <td>21.082344</td>\n",
       "      <td>46.398619</td>\n",
       "      <td>1.0</td>\n",
       "    </tr>\n",
       "    <tr>\n",
       "      <td>2019-01-02 00:00:28.809603201</td>\n",
       "      <td>32.294495</td>\n",
       "      <td>32.284431</td>\n",
       "      <td>32.315311</td>\n",
       "      <td>32.302123</td>\n",
       "      <td>-2.589337</td>\n",
       "      <td>32.301228</td>\n",
       "      <td>32.302201</td>\n",
       "      <td>32.290894</td>\n",
       "      <td>32.299073</td>\n",
       "      <td>32.304338</td>\n",
       "      <td>...</td>\n",
       "      <td>32.296052</td>\n",
       "      <td>32.286100</td>\n",
       "      <td>32.303810</td>\n",
       "      <td>32.293472</td>\n",
       "      <td>32.297611</td>\n",
       "      <td>32.312872</td>\n",
       "      <td>32.301658</td>\n",
       "      <td>32.291544</td>\n",
       "      <td>9.107131</td>\n",
       "      <td>1.0</td>\n",
       "    </tr>\n",
       "    <tr>\n",
       "      <td>2019-01-02 08:00:38.412804268</td>\n",
       "      <td>28.057100</td>\n",
       "      <td>28.073949</td>\n",
       "      <td>28.074548</td>\n",
       "      <td>28.060949</td>\n",
       "      <td>13.215687</td>\n",
       "      <td>28.065453</td>\n",
       "      <td>28.067363</td>\n",
       "      <td>28.069493</td>\n",
       "      <td>28.073011</td>\n",
       "      <td>28.082102</td>\n",
       "      <td>...</td>\n",
       "      <td>28.077653</td>\n",
       "      <td>28.062272</td>\n",
       "      <td>28.068879</td>\n",
       "      <td>28.071815</td>\n",
       "      <td>28.087534</td>\n",
       "      <td>28.057312</td>\n",
       "      <td>28.080715</td>\n",
       "      <td>28.060725</td>\n",
       "      <td>-39.813131</td>\n",
       "      <td>1.0</td>\n",
       "    </tr>\n",
       "  </tbody>\n",
       "</table>\n",
       "<p>5 rows × 21 columns</p>\n",
       "</div>"
      ],
      "text/plain": [
       "                               machine_0  machine_1  machine_2  machine_3  \\\n",
       "timestamp                                                                   \n",
       "2019-01-01 00:00:00.000000000  12.626096  12.588243  12.610290  12.602282   \n",
       "2019-01-01 08:00:09.603201067  10.831994  10.822199  10.818875  10.824428   \n",
       "2019-01-01 16:00:19.206402134  21.083510  21.074661  21.073187  21.071526   \n",
       "2019-01-02 00:00:28.809603201  32.294495  32.284431  32.315311  32.302123   \n",
       "2019-01-02 08:00:38.412804268  28.057100  28.073949  28.074548  28.060949   \n",
       "\n",
       "                               machine_4  machine_5  machine_6  machine_7  \\\n",
       "timestamp                                                                   \n",
       "2019-01-01 00:00:00.000000000 -32.445524  12.597777  12.612846  12.601444   \n",
       "2019-01-01 08:00:09.603201067 -47.568769  10.831517  10.836320  10.826737   \n",
       "2019-01-01 16:00:19.206402134 -14.666918  21.070489  21.085829  21.075363   \n",
       "2019-01-02 00:00:28.809603201  -2.589337  32.301228  32.302201  32.290894   \n",
       "2019-01-02 08:00:38.412804268  13.215687  28.065453  28.067363  28.069493   \n",
       "\n",
       "                               machine_8  machine_9  ...  machine_11  \\\n",
       "timestamp                                            ...               \n",
       "2019-01-01 00:00:00.000000000  12.609624  12.609662  ...   12.619190   \n",
       "2019-01-01 08:00:09.603201067  10.824689  10.820247  ...   10.823407   \n",
       "2019-01-01 16:00:19.206402134  21.079024  21.076244  ...   21.094514   \n",
       "2019-01-02 00:00:28.809603201  32.299073  32.304338  ...   32.296052   \n",
       "2019-01-02 08:00:38.412804268  28.073011  28.082102  ...   28.077653   \n",
       "\n",
       "                               machine_12  machine_13  machine_14  machine_15  \\\n",
       "timestamp                                                                       \n",
       "2019-01-01 00:00:00.000000000   12.604780   12.629911   12.630009   12.606581   \n",
       "2019-01-01 08:00:09.603201067   10.834779   10.830861   10.820446   10.835070   \n",
       "2019-01-01 16:00:19.206402134   21.076370   21.075715   21.096370   21.074654   \n",
       "2019-01-02 00:00:28.809603201   32.286100   32.303810   32.293472   32.297611   \n",
       "2019-01-02 08:00:38.412804268   28.062272   28.068879   28.071815   28.087534   \n",
       "\n",
       "                               machine_16  machine_17  machine_18  machine_19  \\\n",
       "timestamp                                                                       \n",
       "2019-01-01 00:00:00.000000000   12.623363   12.596252   12.606762   26.235836   \n",
       "2019-01-01 08:00:09.603201067   10.826310   10.839134   10.854633   27.479579   \n",
       "2019-01-01 16:00:19.206402134   21.095022   21.093089   21.082344   46.398619   \n",
       "2019-01-02 00:00:28.809603201   32.312872   32.301658   32.291544    9.107131   \n",
       "2019-01-02 08:00:38.412804268   28.057312   28.080715   28.060725  -39.813131   \n",
       "\n",
       "                               outliers  \n",
       "timestamp                                \n",
       "2019-01-01 00:00:00.000000000       1.0  \n",
       "2019-01-01 08:00:09.603201067       1.0  \n",
       "2019-01-01 16:00:19.206402134       1.0  \n",
       "2019-01-02 00:00:28.809603201       1.0  \n",
       "2019-01-02 08:00:38.412804268       1.0  \n",
       "\n",
       "[5 rows x 21 columns]"
      ]
     },
     "execution_count": 189,
     "metadata": {},
     "output_type": "execute_result"
    }
   ],
   "source": [
    "# Converting PC matrix to a dataframe. Also notice the index from  \n",
    "all_machines_df_new_out_2 = pd.DataFrame(all_machines_df_new_out, columns = cols+[\"outliers\"], index  =  all_machines_df_new.index)\n",
    "\n",
    "\n",
    "all_machines_df_new_out_2.head()"
   ]
  },
  {
   "cell_type": "code",
   "execution_count": 191,
   "metadata": {},
   "outputs": [
    {
     "data": {
      "text/plain": [
       "machine_0     3000\n",
       "machine_1     3000\n",
       "machine_2     3000\n",
       "machine_3     3000\n",
       "machine_4     3000\n",
       "machine_5     3000\n",
       "machine_6     3000\n",
       "machine_7     3000\n",
       "machine_8     3000\n",
       "machine_9     3000\n",
       "machine_10    3000\n",
       "machine_11    3000\n",
       "machine_12    3000\n",
       "machine_13    3000\n",
       "machine_14    3000\n",
       "machine_15    3000\n",
       "machine_16    3000\n",
       "machine_17    3000\n",
       "machine_18    3000\n",
       "machine_19    3000\n",
       "outliers      3000\n",
       "dtype: int64"
      ]
     },
     "execution_count": 191,
     "metadata": {},
     "output_type": "execute_result"
    }
   ],
   "source": [
    "all_machines_df_new_out_2.isna().count()"
   ]
  },
  {
   "cell_type": "code",
   "execution_count": 194,
   "metadata": {},
   "outputs": [
    {
     "data": {
      "text/plain": [
       "(3000, 21)"
      ]
     },
     "execution_count": 194,
     "metadata": {},
     "output_type": "execute_result"
    }
   ],
   "source": [
    "all_machines_df_new_out_2.shape"
   ]
  },
  {
   "cell_type": "code",
   "execution_count": 192,
   "metadata": {},
   "outputs": [],
   "source": [
    "all_machines_df_new_out_3 = all_machines_df_new_out_2[(all_machines_df_new_out_2[\"outliers\"]==1)]"
   ]
  },
  {
   "cell_type": "code",
   "execution_count": 193,
   "metadata": {},
   "outputs": [
    {
     "data": {
      "text/plain": [
       "(2895, 21)"
      ]
     },
     "execution_count": 193,
     "metadata": {},
     "output_type": "execute_result"
    }
   ],
   "source": [
    "all_machines_df_new_out_3.shape"
   ]
  },
  {
   "cell_type": "code",
   "execution_count": 215,
   "metadata": {},
   "outputs": [
    {
     "data": {
      "text/plain": [
       "(array([  77.,    0.,    0.,    3.,   12., 2752.,   10.,    0.,    0.,\n",
       "          41.]),\n",
       " array([-273.48313594, -221.13303921, -168.78294248, -116.43284576,\n",
       "         -64.08274903,  -11.7326523 ,   40.61744443,   92.96754116,\n",
       "         145.31763789,  197.66773461,  250.01783134]),\n",
       " <a list of 10 Patch objects>)"
      ]
     },
     "execution_count": 215,
     "metadata": {},
     "output_type": "execute_result"
    },
    {
     "data": {
      "image/png": "[encoded data removed]",
      "text/plain": [
       "<Figure size 432x288 with 1 Axes>"
      ]
     },
     "metadata": {
      "needs_background": "light"
     },
     "output_type": "display_data"
    }
   ],
   "source": [
    "pyplot.hist(all_machines_df_new_out_3.machine_19)"
   ]
  },
  {
   "cell_type": "code",
   "execution_count": 241,
   "metadata": {},
   "outputs": [
    {
     "data": {
      "image/png": "[encoded data removed]",
      "text/plain": [
       "<Figure size 432x288 with 1 Axes>"
      ]
     },
     "metadata": {
      "needs_background": "light"
     },
     "output_type": "display_data"
    }
   ],
   "source": [
    "from statsmodels.graphics.gofplots import qqplot\n",
    "qqplot(all_machines_df_new_out_3.machine_19, line='s')\n",
    "pyplot.show()"
   ]
  },
  {
   "cell_type": "code",
   "execution_count": null,
   "metadata": {},
   "outputs": [],
   "source": []
  },
  {
   "cell_type": "code",
   "execution_count": 136,
   "metadata": {},
   "outputs": [
    {
     "data": {
      "text/plain": [
       "timestamp\n",
       "2019-01-01 00:00:00.000000000    12.626096\n",
       "2019-01-01 08:00:09.603201067    10.831994\n",
       "2019-01-01 16:00:19.206402134    21.083510\n",
       "2019-01-02 00:00:28.809603201    32.294495\n",
       "2019-01-02 08:00:38.412804268    28.057100\n",
       "                                   ...    \n",
       "2021-09-25 15:59:21.587195728     0.004364\n",
       "2021-09-25 23:59:31.190396800     0.004077\n",
       "2021-09-26 07:59:40.793597872     0.007702\n",
       "2021-09-26 15:59:50.396798944    -0.008149\n",
       "2021-09-27 00:00:00.000000000     0.003465\n",
       "Name: machine_0, Length: 3000, dtype: float64"
      ]
     },
     "execution_count": 136,
     "metadata": {},
     "output_type": "execute_result"
    }
   ],
   "source": [
    "all_machines_df.machine_0"
   ]
  },
  {
   "cell_type": "code",
   "execution_count": 179,
   "metadata": {},
   "outputs": [],
   "source": [
    "#all_machines_df.head(50)"
   ]
  },
  {
   "cell_type": "markdown",
   "metadata": {},
   "source": [
    "### Below code is obtaining the logarithmic transformation of the machone data"
   ]
  },
  {
   "cell_type": "code",
   "execution_count": 532,
   "metadata": {},
   "outputs": [],
   "source": [
    "log_transformed_all_machines_df = pd.DataFrame()\n",
    "\n",
    "for i in cols:\n",
    "    temp = []\n",
    "    for index, val in enumerate(all_machines_df[i]):\n",
    "        if val < 0:\n",
    "            val = val * (-1)\n",
    "            if np.isnan(np.log(val)):\n",
    "                temp.append(0)\n",
    "            else:\n",
    "                temp.append(np.log(1+val))\n",
    "        else:\n",
    "            if np.isnan(np.log(val)):\n",
    "                temp.append(0)\n",
    "            else:\n",
    "                temp.append(np.log(1+val))\n",
    "    machine = \"log_\"+str(i)\n",
    "    log_transformed_all_machines_df[machine] = temp\n",
    "    \n",
    "    "
   ]
  },
  {
   "cell_type": "code",
   "execution_count": 533,
   "metadata": {},
   "outputs": [
    {
     "data": {
      "text/plain": [
       "log_machine_0     0.658299\n",
       "log_machine_1     1.893604\n",
       "log_machine_2     2.031539\n",
       "log_machine_3     0.379302\n",
       "log_machine_4     0.342765\n",
       "log_machine_5     0.660796\n",
       "log_machine_6     0.854593\n",
       "log_machine_7     1.642353\n",
       "log_machine_8     1.109380\n",
       "log_machine_9     0.968248\n",
       "log_machine_10    0.477891\n",
       "log_machine_11    0.536200\n",
       "log_machine_12    0.886999\n",
       "log_machine_13    0.844087\n",
       "log_machine_14    0.668085\n",
       "log_machine_15    1.929329\n",
       "log_machine_16    0.847927\n",
       "log_machine_17    0.919361\n",
       "log_machine_18    0.692343\n",
       "log_machine_19    0.332268\n",
       "dtype: float64"
      ]
     },
     "execution_count": 533,
     "metadata": {},
     "output_type": "execute_result"
    }
   ],
   "source": [
    "log_transformed_all_machines_df.mean()"
   ]
  },
  {
   "cell_type": "code",
   "execution_count": 534,
   "metadata": {},
   "outputs": [],
   "source": [
    "log_transformed_all_machines_df.index = all_machines_df.index"
   ]
  },
  {
   "cell_type": "code",
   "execution_count": 535,
   "metadata": {},
   "outputs": [
    {
     "data": {
      "text/html": [
       "<div>\n",
       "<style scoped>\n",
       "    .dataframe tbody tr th:only-of-type {\n",
       "        vertical-align: middle;\n",
       "    }\n",
       "\n",
       "    .dataframe tbody tr th {\n",
       "        vertical-align: top;\n",
       "    }\n",
       "\n",
       "    .dataframe thead th {\n",
       "        text-align: right;\n",
       "    }\n",
       "</style>\n",
       "<table border=\"1\" class=\"dataframe\">\n",
       "  <thead>\n",
       "    <tr style=\"text-align: right;\">\n",
       "      <th></th>\n",
       "      <th>log_machine_0</th>\n",
       "      <th>log_machine_1</th>\n",
       "      <th>log_machine_2</th>\n",
       "      <th>log_machine_3</th>\n",
       "      <th>log_machine_4</th>\n",
       "      <th>log_machine_5</th>\n",
       "      <th>log_machine_6</th>\n",
       "      <th>log_machine_7</th>\n",
       "      <th>log_machine_8</th>\n",
       "      <th>log_machine_9</th>\n",
       "      <th>log_machine_10</th>\n",
       "      <th>log_machine_11</th>\n",
       "      <th>log_machine_12</th>\n",
       "      <th>log_machine_13</th>\n",
       "      <th>log_machine_14</th>\n",
       "      <th>log_machine_15</th>\n",
       "      <th>log_machine_16</th>\n",
       "      <th>log_machine_17</th>\n",
       "      <th>log_machine_18</th>\n",
       "      <th>log_machine_19</th>\n",
       "    </tr>\n",
       "    <tr>\n",
       "      <th>timestamp</th>\n",
       "      <th></th>\n",
       "      <th></th>\n",
       "      <th></th>\n",
       "      <th></th>\n",
       "      <th></th>\n",
       "      <th></th>\n",
       "      <th></th>\n",
       "      <th></th>\n",
       "      <th></th>\n",
       "      <th></th>\n",
       "      <th></th>\n",
       "      <th></th>\n",
       "      <th></th>\n",
       "      <th></th>\n",
       "      <th></th>\n",
       "      <th></th>\n",
       "      <th></th>\n",
       "      <th></th>\n",
       "      <th></th>\n",
       "      <th></th>\n",
       "    </tr>\n",
       "  </thead>\n",
       "  <tbody>\n",
       "    <tr>\n",
       "      <td>2019-01-01 00:00:00.000000000</td>\n",
       "      <td>2.611987</td>\n",
       "      <td>2.609205</td>\n",
       "      <td>2.610826</td>\n",
       "      <td>2.610238</td>\n",
       "      <td>3.509918</td>\n",
       "      <td>2.609906</td>\n",
       "      <td>2.611014</td>\n",
       "      <td>2.610176</td>\n",
       "      <td>2.610777</td>\n",
       "      <td>2.610780</td>\n",
       "      <td>2.610581</td>\n",
       "      <td>2.611480</td>\n",
       "      <td>2.610421</td>\n",
       "      <td>2.612267</td>\n",
       "      <td>2.612274</td>\n",
       "      <td>2.610554</td>\n",
       "      <td>2.611786</td>\n",
       "      <td>2.609794</td>\n",
       "      <td>2.610567</td>\n",
       "      <td>3.304534</td>\n",
       "    </tr>\n",
       "    <tr>\n",
       "      <td>2019-01-01 08:00:09.603201067</td>\n",
       "      <td>2.470807</td>\n",
       "      <td>2.469979</td>\n",
       "      <td>2.469698</td>\n",
       "      <td>2.470168</td>\n",
       "      <td>3.882981</td>\n",
       "      <td>2.470767</td>\n",
       "      <td>2.471173</td>\n",
       "      <td>2.470363</td>\n",
       "      <td>2.470190</td>\n",
       "      <td>2.469814</td>\n",
       "      <td>2.470365</td>\n",
       "      <td>2.470081</td>\n",
       "      <td>2.471043</td>\n",
       "      <td>2.470711</td>\n",
       "      <td>2.469831</td>\n",
       "      <td>2.471067</td>\n",
       "      <td>2.470327</td>\n",
       "      <td>2.471410</td>\n",
       "      <td>2.472719</td>\n",
       "      <td>3.349187</td>\n",
       "    </tr>\n",
       "    <tr>\n",
       "      <td>2019-01-01 16:00:19.206402134</td>\n",
       "      <td>3.094831</td>\n",
       "      <td>3.094430</td>\n",
       "      <td>3.094364</td>\n",
       "      <td>3.094288</td>\n",
       "      <td>2.751551</td>\n",
       "      <td>3.094241</td>\n",
       "      <td>3.094936</td>\n",
       "      <td>3.094462</td>\n",
       "      <td>3.094628</td>\n",
       "      <td>3.094502</td>\n",
       "      <td>3.094079</td>\n",
       "      <td>3.095329</td>\n",
       "      <td>3.094508</td>\n",
       "      <td>3.094478</td>\n",
       "      <td>3.095413</td>\n",
       "      <td>3.094430</td>\n",
       "      <td>3.095352</td>\n",
       "      <td>3.095265</td>\n",
       "      <td>3.094778</td>\n",
       "      <td>3.858593</td>\n",
       "    </tr>\n",
       "    <tr>\n",
       "      <td>2019-01-02 00:00:28.809603201</td>\n",
       "      <td>3.505392</td>\n",
       "      <td>3.505090</td>\n",
       "      <td>3.506017</td>\n",
       "      <td>3.505621</td>\n",
       "      <td>1.277968</td>\n",
       "      <td>3.505594</td>\n",
       "      <td>3.505624</td>\n",
       "      <td>3.505284</td>\n",
       "      <td>3.505530</td>\n",
       "      <td>3.505688</td>\n",
       "      <td>3.505841</td>\n",
       "      <td>3.505439</td>\n",
       "      <td>3.505140</td>\n",
       "      <td>3.505672</td>\n",
       "      <td>3.505361</td>\n",
       "      <td>3.505486</td>\n",
       "      <td>3.505944</td>\n",
       "      <td>3.505607</td>\n",
       "      <td>3.505303</td>\n",
       "      <td>2.313241</td>\n",
       "    </tr>\n",
       "    <tr>\n",
       "      <td>2019-01-02 08:00:38.412804268</td>\n",
       "      <td>3.369263</td>\n",
       "      <td>3.369843</td>\n",
       "      <td>3.369863</td>\n",
       "      <td>3.369395</td>\n",
       "      <td>2.654346</td>\n",
       "      <td>3.369550</td>\n",
       "      <td>3.369616</td>\n",
       "      <td>3.369689</td>\n",
       "      <td>3.369810</td>\n",
       "      <td>3.370123</td>\n",
       "      <td>3.369627</td>\n",
       "      <td>3.369970</td>\n",
       "      <td>3.369441</td>\n",
       "      <td>3.369668</td>\n",
       "      <td>3.369769</td>\n",
       "      <td>3.370310</td>\n",
       "      <td>3.369270</td>\n",
       "      <td>3.370075</td>\n",
       "      <td>3.369388</td>\n",
       "      <td>3.709004</td>\n",
       "    </tr>\n",
       "  </tbody>\n",
       "</table>\n",
       "</div>"
      ],
      "text/plain": [
       "                               log_machine_0  log_machine_1  log_machine_2  \\\n",
       "timestamp                                                                    \n",
       "2019-01-01 00:00:00.000000000       2.611987       2.609205       2.610826   \n",
       "2019-01-01 08:00:09.603201067       2.470807       2.469979       2.469698   \n",
       "2019-01-01 16:00:19.206402134       3.094831       3.094430       3.094364   \n",
       "2019-01-02 00:00:28.809603201       3.505392       3.505090       3.506017   \n",
       "2019-01-02 08:00:38.412804268       3.369263       3.369843       3.369863   \n",
       "\n",
       "                               log_machine_3  log_machine_4  log_machine_5  \\\n",
       "timestamp                                                                    \n",
       "2019-01-01 00:00:00.000000000       2.610238       3.509918       2.609906   \n",
       "2019-01-01 08:00:09.603201067       2.470168       3.882981       2.470767   \n",
       "2019-01-01 16:00:19.206402134       3.094288       2.751551       3.094241   \n",
       "2019-01-02 00:00:28.809603201       3.505621       1.277968       3.505594   \n",
       "2019-01-02 08:00:38.412804268       3.369395       2.654346       3.369550   \n",
       "\n",
       "                               log_machine_6  log_machine_7  log_machine_8  \\\n",
       "timestamp                                                                    \n",
       "2019-01-01 00:00:00.000000000       2.611014       2.610176       2.610777   \n",
       "2019-01-01 08:00:09.603201067       2.471173       2.470363       2.470190   \n",
       "2019-01-01 16:00:19.206402134       3.094936       3.094462       3.094628   \n",
       "2019-01-02 00:00:28.809603201       3.505624       3.505284       3.505530   \n",
       "2019-01-02 08:00:38.412804268       3.369616       3.369689       3.369810   \n",
       "\n",
       "                               log_machine_9  log_machine_10  log_machine_11  \\\n",
       "timestamp                                                                      \n",
       "2019-01-01 00:00:00.000000000       2.610780        2.610581        2.611480   \n",
       "2019-01-01 08:00:09.603201067       2.469814        2.470365        2.470081   \n",
       "2019-01-01 16:00:19.206402134       3.094502        3.094079        3.095329   \n",
       "2019-01-02 00:00:28.809603201       3.505688        3.505841        3.505439   \n",
       "2019-01-02 08:00:38.412804268       3.370123        3.369627        3.369970   \n",
       "\n",
       "                               log_machine_12  log_machine_13  log_machine_14  \\\n",
       "timestamp                                                                       \n",
       "2019-01-01 00:00:00.000000000        2.610421        2.612267        2.612274   \n",
       "2019-01-01 08:00:09.603201067        2.471043        2.470711        2.469831   \n",
       "2019-01-01 16:00:19.206402134        3.094508        3.094478        3.095413   \n",
       "2019-01-02 00:00:28.809603201        3.505140        3.505672        3.505361   \n",
       "2019-01-02 08:00:38.412804268        3.369441        3.369668        3.369769   \n",
       "\n",
       "                               log_machine_15  log_machine_16  log_machine_17  \\\n",
       "timestamp                                                                       \n",
       "2019-01-01 00:00:00.000000000        2.610554        2.611786        2.609794   \n",
       "2019-01-01 08:00:09.603201067        2.471067        2.470327        2.471410   \n",
       "2019-01-01 16:00:19.206402134        3.094430        3.095352        3.095265   \n",
       "2019-01-02 00:00:28.809603201        3.505486        3.505944        3.505607   \n",
       "2019-01-02 08:00:38.412804268        3.370310        3.369270        3.370075   \n",
       "\n",
       "                               log_machine_18  log_machine_19  \n",
       "timestamp                                                      \n",
       "2019-01-01 00:00:00.000000000        2.610567        3.304534  \n",
       "2019-01-01 08:00:09.603201067        2.472719        3.349187  \n",
       "2019-01-01 16:00:19.206402134        3.094778        3.858593  \n",
       "2019-01-02 00:00:28.809603201        3.505303        2.313241  \n",
       "2019-01-02 08:00:38.412804268        3.369388        3.709004  "
      ]
     },
     "execution_count": 535,
     "metadata": {},
     "output_type": "execute_result"
    }
   ],
   "source": [
    "log_transformed_all_machines_df.head(5)"
   ]
  },
  {
   "cell_type": "markdown",
   "metadata": {},
   "source": [
    "### The code and the figure or the graph below shows the pattern  or the behaviour of all the machines for over 3000 data points\n",
    "\n",
    "### clearly machine numbers 14,16, and 18 show some wierd behavior"
   ]
  },
  {
   "cell_type": "code",
   "execution_count": 537,
   "metadata": {},
   "outputs": [
    {
     "data": {
      "image/png": "[encoded data removed]",
      "text/plain": [
       "<Figure size 432x288 with 20 Axes>"
      ]
     },
     "metadata": {
      "needs_background": "light"
     },
     "output_type": "display_data"
    }
   ],
   "source": [
    "# plot first few images\n",
    "for i in range(1, 21):\n",
    "    # define subplot\n",
    "    pyplot.subplot(5, 4, i)\n",
    "    # plot raw pixel data\n",
    "    i = i-1\n",
    "    machine = \"log_\"+\"machine_\"+str(i)\n",
    "    pyplot.plot(log_transformed_all_machines_df.index[:1000], log_transformed_all_machines_df[machine][:1000])\n",
    "# show the figure\n",
    "pyplot.show()"
   ]
  },
  {
   "cell_type": "markdown",
   "metadata": {},
   "source": [
    "### The figure below shows the pattern or the behaviour of the machine_0 for over 3000 data points"
   ]
  },
  {
   "cell_type": "code",
   "execution_count": 536,
   "metadata": {},
   "outputs": [
    {
     "data": {
      "text/plain": [
       "[<matplotlib.lines.Line2D at 0x24c99248988>]"
      ]
     },
     "execution_count": 536,
     "metadata": {},
     "output_type": "execute_result"
    },
    {
     "data": {
      "image/png": "[encoded data removed]",
      "text/plain": [
       "<Figure size 432x288 with 1 Axes>"
      ]
     },
     "metadata": {
      "needs_background": "light"
     },
     "output_type": "display_data"
    }
   ],
   "source": [
    "pyplot.plot(log_transformed_all_machines_df.index[0:3000], log_transformed_all_machines_df.log_machine_0[0:3000])"
   ]
  },
  {
   "cell_type": "markdown",
   "metadata": {},
   "source": [
    "### Below if the list of columns present in the log transformed dataset o the machines"
   ]
  },
  {
   "cell_type": "code",
   "execution_count": 292,
   "metadata": {},
   "outputs": [
    {
     "data": {
      "text/plain": [
       "['log_machine_0',\n",
       " 'log_machine_1',\n",
       " 'log_machine_2',\n",
       " 'log_machine_3',\n",
       " 'log_machine_4',\n",
       " 'log_machine_5',\n",
       " 'log_machine_6',\n",
       " 'log_machine_7',\n",
       " 'log_machine_8',\n",
       " 'log_machine_9',\n",
       " 'log_machine_10',\n",
       " 'log_machine_11',\n",
       " 'log_machine_12',\n",
       " 'log_machine_13',\n",
       " 'log_machine_14',\n",
       " 'log_machine_15',\n",
       " 'log_machine_16',\n",
       " 'log_machine_17',\n",
       " 'log_machine_18',\n",
       " 'log_machine_19']"
      ]
     },
     "execution_count": 292,
     "metadata": {},
     "output_type": "execute_result"
    }
   ],
   "source": [
    "log_cols = list(log_transformed_all_machines_df)\n",
    "log_cols"
   ]
  },
  {
   "cell_type": "markdown",
   "metadata": {},
   "source": [
    "### If continuous 5 values which are less than 0.0013 exists in the machines time series data\n",
    "### then that machine is being identified as Faulty and Rest are all non-faulty machines\n",
    "\n",
    "### Below is the code and the logic writtern to identify faulty machines"
   ]
  },
  {
   "cell_type": "code",
   "execution_count": 573,
   "metadata": {},
   "outputs": [],
   "source": [
    "#Finding faulty machines\n",
    "\n",
    "machine = []\n",
    "faulty = []\n",
    "\n",
    "for i in log_cols:\n",
    "    faulty_flag = 0\n",
    "    prev_0 = 0\n",
    "    count = 0\n",
    "    temp = []\n",
    "    for index, val in enumerate(log_transformed_all_machines_df[i]):\n",
    "        if val <= 0.0013:\n",
    "            count = 0\n",
    "            for j in range(0,4):\n",
    "                if (index+j) < 3000:\n",
    "                    if log_transformed_all_machines_df[i][index+j] <= 0.0013:\n",
    "                        #print(log_transformed_all_machines_df[i][index+j])\n",
    "                        count = count+1\n",
    "                        #print(count)\n",
    "                    else:\n",
    "                        count = 0\n",
    "                    \n",
    "            if count == 4:\n",
    "                faulty_flag = 1\n",
    "                machine.append(i)\n",
    "                faulty.append(faulty_flag)\n",
    "                prev_0 = 1\n",
    "                count = 0\n",
    "                faulty_flag = 0\n",
    "                break\n",
    "        else:\n",
    "            faulty_flag = 0\n",
    "            count = 0\n",
    "        if (index == 2999) & (prev_0 != 1):\n",
    "            machine.append(i)\n",
    "            faulty.append(faulty_flag)\n",
    "            \n"
   ]
  },
  {
   "cell_type": "markdown",
   "metadata": {},
   "source": [
    "### Faulty machines:\n",
    "### machine_18, machine_16, machine_14"
   ]
  },
  {
   "cell_type": "code",
   "execution_count": 574,
   "metadata": {},
   "outputs": [
    {
     "name": "stdout",
     "output_type": "stream",
     "text": [
      "[0, 0, 0, 0, 0, 0, 0, 0, 0, 0, 0, 0, 0, 0, 1, 0, 1, 0, 1, 0]\n",
      "20\n",
      "['log_machine_0', 'log_machine_1', 'log_machine_2', 'log_machine_3', 'log_machine_4', 'log_machine_5', 'log_machine_6', 'log_machine_7', 'log_machine_8', 'log_machine_9', 'log_machine_10', 'log_machine_11', 'log_machine_12', 'log_machine_13', 'log_machine_14', 'log_machine_15', 'log_machine_16', 'log_machine_17', 'log_machine_18', 'log_machine_19']\n"
     ]
    }
   ],
   "source": [
    "# the list faulty represnets the faulty and non faulty machines\n",
    "# 1: faulty\n",
    "# 0: non faulty\n",
    "print(faulty)\n",
    "print(len(faulty))\n",
    "print(machine)"
   ]
  },
  {
   "cell_type": "code",
   "execution_count": 575,
   "metadata": {},
   "outputs": [],
   "source": [
    "all_machines_df_transposed = all_machines_df.transpose()"
   ]
  },
  {
   "cell_type": "markdown",
   "metadata": {},
   "source": [
    "### Creating Data Frame out of list that containes faiulty and non faulty machines"
   ]
  },
  {
   "cell_type": "code",
   "execution_count": 588,
   "metadata": {},
   "outputs": [],
   "source": [
    "faulty_df = pd.DataFrame()"
   ]
  },
  {
   "cell_type": "code",
   "execution_count": 589,
   "metadata": {},
   "outputs": [],
   "source": [
    "faulty_df[\"machines\"] = cols"
   ]
  },
  {
   "cell_type": "code",
   "execution_count": 590,
   "metadata": {},
   "outputs": [],
   "source": [
    "faulty_df[\"faulty\"] = faulty"
   ]
  },
  {
   "cell_type": "code",
   "execution_count": 613,
   "metadata": {},
   "outputs": [],
   "source": [
    "faulty_df.index = faulty_df.machines"
   ]
  },
  {
   "cell_type": "code",
   "execution_count": 616,
   "metadata": {},
   "outputs": [
    {
     "data": {
      "text/plain": [
       "['machines', 'faulty']"
      ]
     },
     "execution_count": 616,
     "metadata": {},
     "output_type": "execute_result"
    }
   ],
   "source": [
    "list(faulty_df)"
   ]
  },
  {
   "cell_type": "code",
   "execution_count": 618,
   "metadata": {},
   "outputs": [
    {
     "data": {
      "text/html": [
       "<div>\n",
       "<style scoped>\n",
       "    .dataframe tbody tr th:only-of-type {\n",
       "        vertical-align: middle;\n",
       "    }\n",
       "\n",
       "    .dataframe tbody tr th {\n",
       "        vertical-align: top;\n",
       "    }\n",
       "\n",
       "    .dataframe thead th {\n",
       "        text-align: right;\n",
       "    }\n",
       "</style>\n",
       "<table border=\"1\" class=\"dataframe\">\n",
       "  <thead>\n",
       "    <tr style=\"text-align: right;\">\n",
       "      <th></th>\n",
       "      <th>faulty</th>\n",
       "    </tr>\n",
       "    <tr>\n",
       "      <th>machines</th>\n",
       "      <th></th>\n",
       "    </tr>\n",
       "  </thead>\n",
       "  <tbody>\n",
       "    <tr>\n",
       "      <td>machine_0</td>\n",
       "      <td>0</td>\n",
       "    </tr>\n",
       "    <tr>\n",
       "      <td>machine_1</td>\n",
       "      <td>0</td>\n",
       "    </tr>\n",
       "    <tr>\n",
       "      <td>machine_2</td>\n",
       "      <td>0</td>\n",
       "    </tr>\n",
       "    <tr>\n",
       "      <td>machine_3</td>\n",
       "      <td>0</td>\n",
       "    </tr>\n",
       "    <tr>\n",
       "      <td>machine_4</td>\n",
       "      <td>0</td>\n",
       "    </tr>\n",
       "    <tr>\n",
       "      <td>machine_5</td>\n",
       "      <td>0</td>\n",
       "    </tr>\n",
       "    <tr>\n",
       "      <td>machine_6</td>\n",
       "      <td>0</td>\n",
       "    </tr>\n",
       "    <tr>\n",
       "      <td>machine_7</td>\n",
       "      <td>0</td>\n",
       "    </tr>\n",
       "    <tr>\n",
       "      <td>machine_8</td>\n",
       "      <td>0</td>\n",
       "    </tr>\n",
       "    <tr>\n",
       "      <td>machine_9</td>\n",
       "      <td>0</td>\n",
       "    </tr>\n",
       "    <tr>\n",
       "      <td>machine_10</td>\n",
       "      <td>0</td>\n",
       "    </tr>\n",
       "    <tr>\n",
       "      <td>machine_11</td>\n",
       "      <td>0</td>\n",
       "    </tr>\n",
       "    <tr>\n",
       "      <td>machine_12</td>\n",
       "      <td>0</td>\n",
       "    </tr>\n",
       "    <tr>\n",
       "      <td>machine_13</td>\n",
       "      <td>0</td>\n",
       "    </tr>\n",
       "    <tr>\n",
       "      <td>machine_14</td>\n",
       "      <td>1</td>\n",
       "    </tr>\n",
       "    <tr>\n",
       "      <td>machine_15</td>\n",
       "      <td>0</td>\n",
       "    </tr>\n",
       "    <tr>\n",
       "      <td>machine_16</td>\n",
       "      <td>1</td>\n",
       "    </tr>\n",
       "    <tr>\n",
       "      <td>machine_17</td>\n",
       "      <td>0</td>\n",
       "    </tr>\n",
       "    <tr>\n",
       "      <td>machine_18</td>\n",
       "      <td>1</td>\n",
       "    </tr>\n",
       "    <tr>\n",
       "      <td>machine_19</td>\n",
       "      <td>0</td>\n",
       "    </tr>\n",
       "  </tbody>\n",
       "</table>\n",
       "</div>"
      ],
      "text/plain": [
       "            faulty\n",
       "machines          \n",
       "machine_0        0\n",
       "machine_1        0\n",
       "machine_2        0\n",
       "machine_3        0\n",
       "machine_4        0\n",
       "machine_5        0\n",
       "machine_6        0\n",
       "machine_7        0\n",
       "machine_8        0\n",
       "machine_9        0\n",
       "machine_10       0\n",
       "machine_11       0\n",
       "machine_12       0\n",
       "machine_13       0\n",
       "machine_14       1\n",
       "machine_15       0\n",
       "machine_16       1\n",
       "machine_17       0\n",
       "machine_18       1\n",
       "machine_19       0"
      ]
     },
     "execution_count": 618,
     "metadata": {},
     "output_type": "execute_result"
    }
   ],
   "source": [
    "faulty_df.drop(columns='machines')"
   ]
  },
  {
   "cell_type": "markdown",
   "metadata": {},
   "source": [
    "### Processing the transposed data fame to input it to the ANN"
   ]
  },
  {
   "cell_type": "code",
   "execution_count": 601,
   "metadata": {},
   "outputs": [],
   "source": [
    "all_machines_df_transposed = all_machines_df_transposed.drop(\"timestamp\")"
   ]
  },
  {
   "cell_type": "code",
   "execution_count": 619,
   "metadata": {},
   "outputs": [],
   "source": [
    "all_machines_df_transposed.index = faulty_df.index"
   ]
  },
  {
   "cell_type": "markdown",
   "metadata": {},
   "source": [
    "### Creating final DataFrame"
   ]
  },
  {
   "cell_type": "code",
   "execution_count": 620,
   "metadata": {},
   "outputs": [],
   "source": [
    "final_df = pd.concat([all_machines_df_transposed, faulty_df], axis = 1)"
   ]
  },
  {
   "cell_type": "code",
   "execution_count": 621,
   "metadata": {},
   "outputs": [
    {
     "data": {
      "text/html": [
       "<div>\n",
       "<style scoped>\n",
       "    .dataframe tbody tr th:only-of-type {\n",
       "        vertical-align: middle;\n",
       "    }\n",
       "\n",
       "    .dataframe tbody tr th {\n",
       "        vertical-align: top;\n",
       "    }\n",
       "\n",
       "    .dataframe thead th {\n",
       "        text-align: right;\n",
       "    }\n",
       "</style>\n",
       "<table border=\"1\" class=\"dataframe\">\n",
       "  <thead>\n",
       "    <tr style=\"text-align: right;\">\n",
       "      <th></th>\n",
       "      <th>2019-01-01 00:00:00.000000000</th>\n",
       "      <th>2019-01-01 08:00:09.603201067</th>\n",
       "      <th>2019-01-01 16:00:19.206402134</th>\n",
       "      <th>2019-01-02 00:00:28.809603201</th>\n",
       "      <th>2019-01-02 08:00:38.412804268</th>\n",
       "      <th>2019-01-02 16:00:48.016005335</th>\n",
       "      <th>2019-01-03 00:00:57.619206402</th>\n",
       "      <th>2019-01-03 08:01:07.222407469</th>\n",
       "      <th>2019-01-03 16:01:16.825608536</th>\n",
       "      <th>2019-01-04 00:01:26.428809603</th>\n",
       "      <th>...</th>\n",
       "      <th>2021-09-24 15:58:52.777592528</th>\n",
       "      <th>2021-09-24 23:59:02.380793600</th>\n",
       "      <th>2021-09-25 07:59:11.983994672</th>\n",
       "      <th>2021-09-25 15:59:21.587195728</th>\n",
       "      <th>2021-09-25 23:59:31.190396800</th>\n",
       "      <th>2021-09-26 07:59:40.793597872</th>\n",
       "      <th>2021-09-26 15:59:50.396798944</th>\n",
       "      <th>2021-09-27 00:00:00.000000000</th>\n",
       "      <th>machines</th>\n",
       "      <th>faulty</th>\n",
       "    </tr>\n",
       "    <tr>\n",
       "      <th>machines</th>\n",
       "      <th></th>\n",
       "      <th></th>\n",
       "      <th></th>\n",
       "      <th></th>\n",
       "      <th></th>\n",
       "      <th></th>\n",
       "      <th></th>\n",
       "      <th></th>\n",
       "      <th></th>\n",
       "      <th></th>\n",
       "      <th></th>\n",
       "      <th></th>\n",
       "      <th></th>\n",
       "      <th></th>\n",
       "      <th></th>\n",
       "      <th></th>\n",
       "      <th></th>\n",
       "      <th></th>\n",
       "      <th></th>\n",
       "      <th></th>\n",
       "      <th></th>\n",
       "    </tr>\n",
       "  </thead>\n",
       "  <tbody>\n",
       "    <tr>\n",
       "      <td>machine_0</td>\n",
       "      <td>12.6261</td>\n",
       "      <td>10.832</td>\n",
       "      <td>21.0835</td>\n",
       "      <td>32.2945</td>\n",
       "      <td>28.0571</td>\n",
       "      <td>29.6466</td>\n",
       "      <td>38.9027</td>\n",
       "      <td>33.0526</td>\n",
       "      <td>25.1906</td>\n",
       "      <td>29.5543</td>\n",
       "      <td>...</td>\n",
       "      <td>0.0132385</td>\n",
       "      <td>0.00118389</td>\n",
       "      <td>-0.00416465</td>\n",
       "      <td>0.00436359</td>\n",
       "      <td>0.00407706</td>\n",
       "      <td>0.00770203</td>\n",
       "      <td>-0.0081489</td>\n",
       "      <td>0.00346457</td>\n",
       "      <td>machine_0</td>\n",
       "      <td>0</td>\n",
       "    </tr>\n",
       "    <tr>\n",
       "      <td>machine_1</td>\n",
       "      <td>12.5882</td>\n",
       "      <td>10.8222</td>\n",
       "      <td>21.0747</td>\n",
       "      <td>32.2844</td>\n",
       "      <td>28.0739</td>\n",
       "      <td>29.6299</td>\n",
       "      <td>38.8902</td>\n",
       "      <td>33.0528</td>\n",
       "      <td>25.1857</td>\n",
       "      <td>29.5804</td>\n",
       "      <td>...</td>\n",
       "      <td>0.0138528</td>\n",
       "      <td>0.0204193</td>\n",
       "      <td>-0.000396251</td>\n",
       "      <td>0.0133392</td>\n",
       "      <td>-250.014</td>\n",
       "      <td>0.00402222</td>\n",
       "      <td>-0.000898332</td>\n",
       "      <td>0.00609199</td>\n",
       "      <td>machine_1</td>\n",
       "      <td>0</td>\n",
       "    </tr>\n",
       "    <tr>\n",
       "      <td>machine_2</td>\n",
       "      <td>12.6103</td>\n",
       "      <td>10.8189</td>\n",
       "      <td>21.0732</td>\n",
       "      <td>32.3153</td>\n",
       "      <td>28.0745</td>\n",
       "      <td>29.6429</td>\n",
       "      <td>38.9015</td>\n",
       "      <td>33.058</td>\n",
       "      <td>275.167</td>\n",
       "      <td>29.5645</td>\n",
       "      <td>...</td>\n",
       "      <td>0.00889409</td>\n",
       "      <td>0.00931602</td>\n",
       "      <td>-0.00914398</td>\n",
       "      <td>0.00310634</td>\n",
       "      <td>-0.0116128</td>\n",
       "      <td>-0.0122641</td>\n",
       "      <td>-250.01</td>\n",
       "      <td>0.00730391</td>\n",
       "      <td>machine_2</td>\n",
       "      <td>0</td>\n",
       "    </tr>\n",
       "    <tr>\n",
       "      <td>machine_3</td>\n",
       "      <td>12.6023</td>\n",
       "      <td>10.8244</td>\n",
       "      <td>21.0715</td>\n",
       "      <td>32.3021</td>\n",
       "      <td>28.0609</td>\n",
       "      <td>29.6533</td>\n",
       "      <td>38.8914</td>\n",
       "      <td>33.0523</td>\n",
       "      <td>25.1858</td>\n",
       "      <td>29.552</td>\n",
       "      <td>...</td>\n",
       "      <td>0.00272261</td>\n",
       "      <td>0.000310935</td>\n",
       "      <td>0.0167264</td>\n",
       "      <td>0.0132858</td>\n",
       "      <td>-0.0054895</td>\n",
       "      <td>-0.00471517</td>\n",
       "      <td>-0.0217027</td>\n",
       "      <td>0.0137911</td>\n",
       "      <td>machine_3</td>\n",
       "      <td>0</td>\n",
       "    </tr>\n",
       "    <tr>\n",
       "      <td>machine_4</td>\n",
       "      <td>-32.4455</td>\n",
       "      <td>-47.5688</td>\n",
       "      <td>-14.6669</td>\n",
       "      <td>-2.58934</td>\n",
       "      <td>13.2157</td>\n",
       "      <td>49.2624</td>\n",
       "      <td>32.0204</td>\n",
       "      <td>-12.2775</td>\n",
       "      <td>-18.4928</td>\n",
       "      <td>-32.6931</td>\n",
       "      <td>...</td>\n",
       "      <td>-0.0014007</td>\n",
       "      <td>-0.00313815</td>\n",
       "      <td>0.0086679</td>\n",
       "      <td>-0.0118577</td>\n",
       "      <td>-0.00767109</td>\n",
       "      <td>0.00490164</td>\n",
       "      <td>0.00460217</td>\n",
       "      <td>-0.00388734</td>\n",
       "      <td>machine_4</td>\n",
       "      <td>0</td>\n",
       "    </tr>\n",
       "    <tr>\n",
       "      <td>machine_5</td>\n",
       "      <td>12.5978</td>\n",
       "      <td>10.8315</td>\n",
       "      <td>21.0705</td>\n",
       "      <td>32.3012</td>\n",
       "      <td>28.0655</td>\n",
       "      <td>29.6381</td>\n",
       "      <td>38.9118</td>\n",
       "      <td>33.0492</td>\n",
       "      <td>25.1881</td>\n",
       "      <td>29.5493</td>\n",
       "      <td>...</td>\n",
       "      <td>-0.00101768</td>\n",
       "      <td>-0.00511846</td>\n",
       "      <td>0.0080435</td>\n",
       "      <td>0.00165536</td>\n",
       "      <td>-0.0143264</td>\n",
       "      <td>0.0107967</td>\n",
       "      <td>0.0097385</td>\n",
       "      <td>0.0106385</td>\n",
       "      <td>machine_5</td>\n",
       "      <td>0</td>\n",
       "    </tr>\n",
       "    <tr>\n",
       "      <td>machine_6</td>\n",
       "      <td>12.6128</td>\n",
       "      <td>10.8363</td>\n",
       "      <td>21.0858</td>\n",
       "      <td>32.3022</td>\n",
       "      <td>28.0674</td>\n",
       "      <td>29.6319</td>\n",
       "      <td>38.8979</td>\n",
       "      <td>33.0501</td>\n",
       "      <td>25.192</td>\n",
       "      <td>29.562</td>\n",
       "      <td>...</td>\n",
       "      <td>-0.00122625</td>\n",
       "      <td>0.0108855</td>\n",
       "      <td>0.00313753</td>\n",
       "      <td>-0.00213507</td>\n",
       "      <td>0.00476383</td>\n",
       "      <td>-0.00131355</td>\n",
       "      <td>-0.0174843</td>\n",
       "      <td>0.00316495</td>\n",
       "      <td>machine_6</td>\n",
       "      <td>0</td>\n",
       "    </tr>\n",
       "    <tr>\n",
       "      <td>machine_7</td>\n",
       "      <td>12.6014</td>\n",
       "      <td>10.8267</td>\n",
       "      <td>21.0754</td>\n",
       "      <td>32.2909</td>\n",
       "      <td>28.0695</td>\n",
       "      <td>29.6267</td>\n",
       "      <td>38.9018</td>\n",
       "      <td>33.0647</td>\n",
       "      <td>25.1689</td>\n",
       "      <td>29.569</td>\n",
       "      <td>...</td>\n",
       "      <td>-0.0109683</td>\n",
       "      <td>0.00101953</td>\n",
       "      <td>0.00102978</td>\n",
       "      <td>0.00948282</td>\n",
       "      <td>0.00996865</td>\n",
       "      <td>-250.017</td>\n",
       "      <td>0.0116952</td>\n",
       "      <td>-0.0108379</td>\n",
       "      <td>machine_7</td>\n",
       "      <td>0</td>\n",
       "    </tr>\n",
       "    <tr>\n",
       "      <td>machine_8</td>\n",
       "      <td>12.6096</td>\n",
       "      <td>10.8247</td>\n",
       "      <td>21.079</td>\n",
       "      <td>32.2991</td>\n",
       "      <td>28.073</td>\n",
       "      <td>29.6265</td>\n",
       "      <td>38.9093</td>\n",
       "      <td>33.0471</td>\n",
       "      <td>25.1835</td>\n",
       "      <td>29.5631</td>\n",
       "      <td>...</td>\n",
       "      <td>0.00542749</td>\n",
       "      <td>-0.0125961</td>\n",
       "      <td>-0.00428586</td>\n",
       "      <td>-0.00303519</td>\n",
       "      <td>-0.0117698</td>\n",
       "      <td>-0.0110901</td>\n",
       "      <td>0.00363798</td>\n",
       "      <td>-0.00111719</td>\n",
       "      <td>machine_8</td>\n",
       "      <td>0</td>\n",
       "    </tr>\n",
       "    <tr>\n",
       "      <td>machine_9</td>\n",
       "      <td>12.6097</td>\n",
       "      <td>10.8202</td>\n",
       "      <td>21.0762</td>\n",
       "      <td>32.3043</td>\n",
       "      <td>28.0821</td>\n",
       "      <td>29.6448</td>\n",
       "      <td>38.9026</td>\n",
       "      <td>33.0482</td>\n",
       "      <td>25.1826</td>\n",
       "      <td>29.5549</td>\n",
       "      <td>...</td>\n",
       "      <td>-0.00137402</td>\n",
       "      <td>-0.0173719</td>\n",
       "      <td>-0.00126278</td>\n",
       "      <td>-0.0101819</td>\n",
       "      <td>0.00806408</td>\n",
       "      <td>0.0229629</td>\n",
       "      <td>0.00719239</td>\n",
       "      <td>0.00709268</td>\n",
       "      <td>machine_9</td>\n",
       "      <td>0</td>\n",
       "    </tr>\n",
       "    <tr>\n",
       "      <td>machine_10</td>\n",
       "      <td>12.607</td>\n",
       "      <td>10.8268</td>\n",
       "      <td>21.0669</td>\n",
       "      <td>32.3094</td>\n",
       "      <td>28.0677</td>\n",
       "      <td>29.648</td>\n",
       "      <td>38.903</td>\n",
       "      <td>33.0628</td>\n",
       "      <td>25.1785</td>\n",
       "      <td>29.5615</td>\n",
       "      <td>...</td>\n",
       "      <td>0.00936352</td>\n",
       "      <td>-0.00386674</td>\n",
       "      <td>0.00612065</td>\n",
       "      <td>0.00690288</td>\n",
       "      <td>0.00668341</td>\n",
       "      <td>-0.0121253</td>\n",
       "      <td>0.0289523</td>\n",
       "      <td>-0.0012613</td>\n",
       "      <td>machine_10</td>\n",
       "      <td>0</td>\n",
       "    </tr>\n",
       "    <tr>\n",
       "      <td>machine_11</td>\n",
       "      <td>12.6192</td>\n",
       "      <td>10.8234</td>\n",
       "      <td>21.0945</td>\n",
       "      <td>32.2961</td>\n",
       "      <td>28.0777</td>\n",
       "      <td>29.644</td>\n",
       "      <td>38.8947</td>\n",
       "      <td>33.0381</td>\n",
       "      <td>25.1757</td>\n",
       "      <td>29.5671</td>\n",
       "      <td>...</td>\n",
       "      <td>-0.0113501</td>\n",
       "      <td>-0.0071245</td>\n",
       "      <td>-0.00760923</td>\n",
       "      <td>-250.014</td>\n",
       "      <td>-250.006</td>\n",
       "      <td>-0.0075102</td>\n",
       "      <td>0.000336386</td>\n",
       "      <td>-0.000461634</td>\n",
       "      <td>machine_11</td>\n",
       "      <td>0</td>\n",
       "    </tr>\n",
       "    <tr>\n",
       "      <td>machine_12</td>\n",
       "      <td>12.6048</td>\n",
       "      <td>10.8348</td>\n",
       "      <td>21.0764</td>\n",
       "      <td>32.2861</td>\n",
       "      <td>28.0623</td>\n",
       "      <td>29.6316</td>\n",
       "      <td>288.879</td>\n",
       "      <td>33.0574</td>\n",
       "      <td>25.1813</td>\n",
       "      <td>29.5568</td>\n",
       "      <td>...</td>\n",
       "      <td>0.00814131</td>\n",
       "      <td>-0.0192988</td>\n",
       "      <td>-0.00387381</td>\n",
       "      <td>-0.00665806</td>\n",
       "      <td>-0.0049407</td>\n",
       "      <td>-0.0114108</td>\n",
       "      <td>-0.00762903</td>\n",
       "      <td>-0.00171005</td>\n",
       "      <td>machine_12</td>\n",
       "      <td>0</td>\n",
       "    </tr>\n",
       "    <tr>\n",
       "      <td>machine_13</td>\n",
       "      <td>12.6299</td>\n",
       "      <td>10.8309</td>\n",
       "      <td>21.0757</td>\n",
       "      <td>32.3038</td>\n",
       "      <td>28.0689</td>\n",
       "      <td>29.6475</td>\n",
       "      <td>38.8997</td>\n",
       "      <td>33.0503</td>\n",
       "      <td>25.1828</td>\n",
       "      <td>29.5634</td>\n",
       "      <td>...</td>\n",
       "      <td>-0.0163576</td>\n",
       "      <td>-0.00199889</td>\n",
       "      <td>-0.0173751</td>\n",
       "      <td>0.00635217</td>\n",
       "      <td>-0.00151781</td>\n",
       "      <td>-0.0029036</td>\n",
       "      <td>-0.013052</td>\n",
       "      <td>0.00216618</td>\n",
       "      <td>machine_13</td>\n",
       "      <td>0</td>\n",
       "    </tr>\n",
       "    <tr>\n",
       "      <td>machine_14</td>\n",
       "      <td>12.63</td>\n",
       "      <td>10.8204</td>\n",
       "      <td>21.0964</td>\n",
       "      <td>32.2935</td>\n",
       "      <td>28.0718</td>\n",
       "      <td>29.6347</td>\n",
       "      <td>38.9024</td>\n",
       "      <td>33.0367</td>\n",
       "      <td>25.1846</td>\n",
       "      <td>29.5734</td>\n",
       "      <td>...</td>\n",
       "      <td>0.00963863</td>\n",
       "      <td>-0.00380391</td>\n",
       "      <td>-250.008</td>\n",
       "      <td>-0.00229444</td>\n",
       "      <td>0.0112859</td>\n",
       "      <td>-0.0119443</td>\n",
       "      <td>-0.00650088</td>\n",
       "      <td>-0.00699775</td>\n",
       "      <td>machine_14</td>\n",
       "      <td>1</td>\n",
       "    </tr>\n",
       "    <tr>\n",
       "      <td>machine_15</td>\n",
       "      <td>12.6066</td>\n",
       "      <td>10.8351</td>\n",
       "      <td>21.0747</td>\n",
       "      <td>32.2976</td>\n",
       "      <td>28.0875</td>\n",
       "      <td>29.6483</td>\n",
       "      <td>38.887</td>\n",
       "      <td>33.0413</td>\n",
       "      <td>25.1769</td>\n",
       "      <td>29.5693</td>\n",
       "      <td>...</td>\n",
       "      <td>0.00811648</td>\n",
       "      <td>-0.0140546</td>\n",
       "      <td>-0.00437914</td>\n",
       "      <td>-0.0097964</td>\n",
       "      <td>-0.00256813</td>\n",
       "      <td>-0.00181966</td>\n",
       "      <td>-0.00241894</td>\n",
       "      <td>0.0122727</td>\n",
       "      <td>machine_15</td>\n",
       "      <td>0</td>\n",
       "    </tr>\n",
       "    <tr>\n",
       "      <td>machine_16</td>\n",
       "      <td>12.6234</td>\n",
       "      <td>10.8263</td>\n",
       "      <td>21.095</td>\n",
       "      <td>32.3129</td>\n",
       "      <td>28.0573</td>\n",
       "      <td>29.6307</td>\n",
       "      <td>38.8889</td>\n",
       "      <td>33.0595</td>\n",
       "      <td>25.1959</td>\n",
       "      <td>29.5497</td>\n",
       "      <td>...</td>\n",
       "      <td>0.0015747</td>\n",
       "      <td>0.0062792</td>\n",
       "      <td>-0.0049884</td>\n",
       "      <td>0.00558338</td>\n",
       "      <td>-0.000878752</td>\n",
       "      <td>0.00555377</td>\n",
       "      <td>0.0077158</td>\n",
       "      <td>-0.00246788</td>\n",
       "      <td>machine_16</td>\n",
       "      <td>1</td>\n",
       "    </tr>\n",
       "    <tr>\n",
       "      <td>machine_17</td>\n",
       "      <td>12.5963</td>\n",
       "      <td>10.8391</td>\n",
       "      <td>21.0931</td>\n",
       "      <td>32.3017</td>\n",
       "      <td>28.0807</td>\n",
       "      <td>29.6392</td>\n",
       "      <td>38.8906</td>\n",
       "      <td>33.0414</td>\n",
       "      <td>25.1751</td>\n",
       "      <td>29.5649</td>\n",
       "      <td>...</td>\n",
       "      <td>0.00250139</td>\n",
       "      <td>0.00158376</td>\n",
       "      <td>-0.0123178</td>\n",
       "      <td>0.0103529</td>\n",
       "      <td>0.0212786</td>\n",
       "      <td>-0.00683265</td>\n",
       "      <td>-0.00987997</td>\n",
       "      <td>0.0137766</td>\n",
       "      <td>machine_17</td>\n",
       "      <td>0</td>\n",
       "    </tr>\n",
       "    <tr>\n",
       "      <td>machine_18</td>\n",
       "      <td>12.6068</td>\n",
       "      <td>10.8546</td>\n",
       "      <td>21.0823</td>\n",
       "      <td>32.2915</td>\n",
       "      <td>28.0607</td>\n",
       "      <td>29.6184</td>\n",
       "      <td>38.8869</td>\n",
       "      <td>33.0577</td>\n",
       "      <td>275.187</td>\n",
       "      <td>29.5495</td>\n",
       "      <td>...</td>\n",
       "      <td>-0.0128597</td>\n",
       "      <td>-0.0067335</td>\n",
       "      <td>-0.00220197</td>\n",
       "      <td>-0.0088336</td>\n",
       "      <td>0.021698</td>\n",
       "      <td>-0.00333677</td>\n",
       "      <td>0.00250802</td>\n",
       "      <td>-0.0125056</td>\n",
       "      <td>machine_18</td>\n",
       "      <td>1</td>\n",
       "    </tr>\n",
       "    <tr>\n",
       "      <td>machine_19</td>\n",
       "      <td>26.2358</td>\n",
       "      <td>27.4796</td>\n",
       "      <td>46.3986</td>\n",
       "      <td>9.10713</td>\n",
       "      <td>-39.8131</td>\n",
       "      <td>-28.1243</td>\n",
       "      <td>-273.483</td>\n",
       "      <td>-24.5453</td>\n",
       "      <td>27.237</td>\n",
       "      <td>50.5747</td>\n",
       "      <td>...</td>\n",
       "      <td>-0.00304405</td>\n",
       "      <td>-0.00218211</td>\n",
       "      <td>0.00249016</td>\n",
       "      <td>0.00240348</td>\n",
       "      <td>0.0235156</td>\n",
       "      <td>0.00200235</td>\n",
       "      <td>-0.00423169</td>\n",
       "      <td>-0.00862163</td>\n",
       "      <td>machine_19</td>\n",
       "      <td>0</td>\n",
       "    </tr>\n",
       "  </tbody>\n",
       "</table>\n",
       "<p>20 rows × 3002 columns</p>\n",
       "</div>"
      ],
      "text/plain": [
       "           2019-01-01 00:00:00.000000000 2019-01-01 08:00:09.603201067  \\\n",
       "machines                                                                 \n",
       "machine_0                        12.6261                        10.832   \n",
       "machine_1                        12.5882                       10.8222   \n",
       "machine_2                        12.6103                       10.8189   \n",
       "machine_3                        12.6023                       10.8244   \n",
       "machine_4                       -32.4455                      -47.5688   \n",
       "machine_5                        12.5978                       10.8315   \n",
       "machine_6                        12.6128                       10.8363   \n",
       "machine_7                        12.6014                       10.8267   \n",
       "machine_8                        12.6096                       10.8247   \n",
       "machine_9                        12.6097                       10.8202   \n",
       "machine_10                        12.607                       10.8268   \n",
       "machine_11                       12.6192                       10.8234   \n",
       "machine_12                       12.6048                       10.8348   \n",
       "machine_13                       12.6299                       10.8309   \n",
       "machine_14                         12.63                       10.8204   \n",
       "machine_15                       12.6066                       10.8351   \n",
       "machine_16                       12.6234                       10.8263   \n",
       "machine_17                       12.5963                       10.8391   \n",
       "machine_18                       12.6068                       10.8546   \n",
       "machine_19                       26.2358                       27.4796   \n",
       "\n",
       "           2019-01-01 16:00:19.206402134 2019-01-02 00:00:28.809603201  \\\n",
       "machines                                                                 \n",
       "machine_0                        21.0835                       32.2945   \n",
       "machine_1                        21.0747                       32.2844   \n",
       "machine_2                        21.0732                       32.3153   \n",
       "machine_3                        21.0715                       32.3021   \n",
       "machine_4                       -14.6669                      -2.58934   \n",
       "machine_5                        21.0705                       32.3012   \n",
       "machine_6                        21.0858                       32.3022   \n",
       "machine_7                        21.0754                       32.2909   \n",
       "machine_8                         21.079                       32.2991   \n",
       "machine_9                        21.0762                       32.3043   \n",
       "machine_10                       21.0669                       32.3094   \n",
       "machine_11                       21.0945                       32.2961   \n",
       "machine_12                       21.0764                       32.2861   \n",
       "machine_13                       21.0757                       32.3038   \n",
       "machine_14                       21.0964                       32.2935   \n",
       "machine_15                       21.0747                       32.2976   \n",
       "machine_16                        21.095                       32.3129   \n",
       "machine_17                       21.0931                       32.3017   \n",
       "machine_18                       21.0823                       32.2915   \n",
       "machine_19                       46.3986                       9.10713   \n",
       "\n",
       "           2019-01-02 08:00:38.412804268 2019-01-02 16:00:48.016005335  \\\n",
       "machines                                                                 \n",
       "machine_0                        28.0571                       29.6466   \n",
       "machine_1                        28.0739                       29.6299   \n",
       "machine_2                        28.0745                       29.6429   \n",
       "machine_3                        28.0609                       29.6533   \n",
       "machine_4                        13.2157                       49.2624   \n",
       "machine_5                        28.0655                       29.6381   \n",
       "machine_6                        28.0674                       29.6319   \n",
       "machine_7                        28.0695                       29.6267   \n",
       "machine_8                         28.073                       29.6265   \n",
       "machine_9                        28.0821                       29.6448   \n",
       "machine_10                       28.0677                        29.648   \n",
       "machine_11                       28.0777                        29.644   \n",
       "machine_12                       28.0623                       29.6316   \n",
       "machine_13                       28.0689                       29.6475   \n",
       "machine_14                       28.0718                       29.6347   \n",
       "machine_15                       28.0875                       29.6483   \n",
       "machine_16                       28.0573                       29.6307   \n",
       "machine_17                       28.0807                       29.6392   \n",
       "machine_18                       28.0607                       29.6184   \n",
       "machine_19                      -39.8131                      -28.1243   \n",
       "\n",
       "           2019-01-03 00:00:57.619206402 2019-01-03 08:01:07.222407469  \\\n",
       "machines                                                                 \n",
       "machine_0                        38.9027                       33.0526   \n",
       "machine_1                        38.8902                       33.0528   \n",
       "machine_2                        38.9015                        33.058   \n",
       "machine_3                        38.8914                       33.0523   \n",
       "machine_4                        32.0204                      -12.2775   \n",
       "machine_5                        38.9118                       33.0492   \n",
       "machine_6                        38.8979                       33.0501   \n",
       "machine_7                        38.9018                       33.0647   \n",
       "machine_8                        38.9093                       33.0471   \n",
       "machine_9                        38.9026                       33.0482   \n",
       "machine_10                        38.903                       33.0628   \n",
       "machine_11                       38.8947                       33.0381   \n",
       "machine_12                       288.879                       33.0574   \n",
       "machine_13                       38.8997                       33.0503   \n",
       "machine_14                       38.9024                       33.0367   \n",
       "machine_15                        38.887                       33.0413   \n",
       "machine_16                       38.8889                       33.0595   \n",
       "machine_17                       38.8906                       33.0414   \n",
       "machine_18                       38.8869                       33.0577   \n",
       "machine_19                      -273.483                      -24.5453   \n",
       "\n",
       "           2019-01-03 16:01:16.825608536 2019-01-04 00:01:26.428809603  ...  \\\n",
       "machines                                                                ...   \n",
       "machine_0                        25.1906                       29.5543  ...   \n",
       "machine_1                        25.1857                       29.5804  ...   \n",
       "machine_2                        275.167                       29.5645  ...   \n",
       "machine_3                        25.1858                        29.552  ...   \n",
       "machine_4                       -18.4928                      -32.6931  ...   \n",
       "machine_5                        25.1881                       29.5493  ...   \n",
       "machine_6                         25.192                        29.562  ...   \n",
       "machine_7                        25.1689                        29.569  ...   \n",
       "machine_8                        25.1835                       29.5631  ...   \n",
       "machine_9                        25.1826                       29.5549  ...   \n",
       "machine_10                       25.1785                       29.5615  ...   \n",
       "machine_11                       25.1757                       29.5671  ...   \n",
       "machine_12                       25.1813                       29.5568  ...   \n",
       "machine_13                       25.1828                       29.5634  ...   \n",
       "machine_14                       25.1846                       29.5734  ...   \n",
       "machine_15                       25.1769                       29.5693  ...   \n",
       "machine_16                       25.1959                       29.5497  ...   \n",
       "machine_17                       25.1751                       29.5649  ...   \n",
       "machine_18                       275.187                       29.5495  ...   \n",
       "machine_19                        27.237                       50.5747  ...   \n",
       "\n",
       "           2021-09-24 15:58:52.777592528 2021-09-24 23:59:02.380793600  \\\n",
       "machines                                                                 \n",
       "machine_0                      0.0132385                    0.00118389   \n",
       "machine_1                      0.0138528                     0.0204193   \n",
       "machine_2                     0.00889409                    0.00931602   \n",
       "machine_3                     0.00272261                   0.000310935   \n",
       "machine_4                     -0.0014007                   -0.00313815   \n",
       "machine_5                    -0.00101768                   -0.00511846   \n",
       "machine_6                    -0.00122625                     0.0108855   \n",
       "machine_7                     -0.0109683                    0.00101953   \n",
       "machine_8                     0.00542749                    -0.0125961   \n",
       "machine_9                    -0.00137402                    -0.0173719   \n",
       "machine_10                    0.00936352                   -0.00386674   \n",
       "machine_11                    -0.0113501                    -0.0071245   \n",
       "machine_12                    0.00814131                    -0.0192988   \n",
       "machine_13                    -0.0163576                   -0.00199889   \n",
       "machine_14                    0.00963863                   -0.00380391   \n",
       "machine_15                    0.00811648                    -0.0140546   \n",
       "machine_16                     0.0015747                     0.0062792   \n",
       "machine_17                    0.00250139                    0.00158376   \n",
       "machine_18                    -0.0128597                    -0.0067335   \n",
       "machine_19                   -0.00304405                   -0.00218211   \n",
       "\n",
       "           2021-09-25 07:59:11.983994672 2021-09-25 15:59:21.587195728  \\\n",
       "machines                                                                 \n",
       "machine_0                    -0.00416465                    0.00436359   \n",
       "machine_1                   -0.000396251                     0.0133392   \n",
       "machine_2                    -0.00914398                    0.00310634   \n",
       "machine_3                      0.0167264                     0.0132858   \n",
       "machine_4                      0.0086679                    -0.0118577   \n",
       "machine_5                      0.0080435                    0.00165536   \n",
       "machine_6                     0.00313753                   -0.00213507   \n",
       "machine_7                     0.00102978                    0.00948282   \n",
       "machine_8                    -0.00428586                   -0.00303519   \n",
       "machine_9                    -0.00126278                    -0.0101819   \n",
       "machine_10                    0.00612065                    0.00690288   \n",
       "machine_11                   -0.00760923                      -250.014   \n",
       "machine_12                   -0.00387381                   -0.00665806   \n",
       "machine_13                    -0.0173751                    0.00635217   \n",
       "machine_14                      -250.008                   -0.00229444   \n",
       "machine_15                   -0.00437914                    -0.0097964   \n",
       "machine_16                    -0.0049884                    0.00558338   \n",
       "machine_17                    -0.0123178                     0.0103529   \n",
       "machine_18                   -0.00220197                    -0.0088336   \n",
       "machine_19                    0.00249016                    0.00240348   \n",
       "\n",
       "           2021-09-25 23:59:31.190396800 2021-09-26 07:59:40.793597872  \\\n",
       "machines                                                                 \n",
       "machine_0                     0.00407706                    0.00770203   \n",
       "machine_1                       -250.014                    0.00402222   \n",
       "machine_2                     -0.0116128                    -0.0122641   \n",
       "machine_3                     -0.0054895                   -0.00471517   \n",
       "machine_4                    -0.00767109                    0.00490164   \n",
       "machine_5                     -0.0143264                     0.0107967   \n",
       "machine_6                     0.00476383                   -0.00131355   \n",
       "machine_7                     0.00996865                      -250.017   \n",
       "machine_8                     -0.0117698                    -0.0110901   \n",
       "machine_9                     0.00806408                     0.0229629   \n",
       "machine_10                    0.00668341                    -0.0121253   \n",
       "machine_11                      -250.006                    -0.0075102   \n",
       "machine_12                    -0.0049407                    -0.0114108   \n",
       "machine_13                   -0.00151781                    -0.0029036   \n",
       "machine_14                     0.0112859                    -0.0119443   \n",
       "machine_15                   -0.00256813                   -0.00181966   \n",
       "machine_16                  -0.000878752                    0.00555377   \n",
       "machine_17                     0.0212786                   -0.00683265   \n",
       "machine_18                      0.021698                   -0.00333677   \n",
       "machine_19                     0.0235156                    0.00200235   \n",
       "\n",
       "           2021-09-26 15:59:50.396798944 2021-09-27 00:00:00.000000000  \\\n",
       "machines                                                                 \n",
       "machine_0                     -0.0081489                    0.00346457   \n",
       "machine_1                   -0.000898332                    0.00609199   \n",
       "machine_2                        -250.01                    0.00730391   \n",
       "machine_3                     -0.0217027                     0.0137911   \n",
       "machine_4                     0.00460217                   -0.00388734   \n",
       "machine_5                      0.0097385                     0.0106385   \n",
       "machine_6                     -0.0174843                    0.00316495   \n",
       "machine_7                      0.0116952                    -0.0108379   \n",
       "machine_8                     0.00363798                   -0.00111719   \n",
       "machine_9                     0.00719239                    0.00709268   \n",
       "machine_10                     0.0289523                    -0.0012613   \n",
       "machine_11                   0.000336386                  -0.000461634   \n",
       "machine_12                   -0.00762903                   -0.00171005   \n",
       "machine_13                     -0.013052                    0.00216618   \n",
       "machine_14                   -0.00650088                   -0.00699775   \n",
       "machine_15                   -0.00241894                     0.0122727   \n",
       "machine_16                     0.0077158                   -0.00246788   \n",
       "machine_17                   -0.00987997                     0.0137766   \n",
       "machine_18                    0.00250802                    -0.0125056   \n",
       "machine_19                   -0.00423169                   -0.00862163   \n",
       "\n",
       "              machines faulty  \n",
       "machines                       \n",
       "machine_0    machine_0      0  \n",
       "machine_1    machine_1      0  \n",
       "machine_2    machine_2      0  \n",
       "machine_3    machine_3      0  \n",
       "machine_4    machine_4      0  \n",
       "machine_5    machine_5      0  \n",
       "machine_6    machine_6      0  \n",
       "machine_7    machine_7      0  \n",
       "machine_8    machine_8      0  \n",
       "machine_9    machine_9      0  \n",
       "machine_10  machine_10      0  \n",
       "machine_11  machine_11      0  \n",
       "machine_12  machine_12      0  \n",
       "machine_13  machine_13      0  \n",
       "machine_14  machine_14      1  \n",
       "machine_15  machine_15      0  \n",
       "machine_16  machine_16      1  \n",
       "machine_17  machine_17      0  \n",
       "machine_18  machine_18      1  \n",
       "machine_19  machine_19      0  \n",
       "\n",
       "[20 rows x 3002 columns]"
      ]
     },
     "execution_count": 621,
     "metadata": {},
     "output_type": "execute_result"
    }
   ],
   "source": [
    "final_df"
   ]
  },
  {
   "cell_type": "code",
   "execution_count": 622,
   "metadata": {},
   "outputs": [],
   "source": [
    "final_df = final_df.drop(columns='machines')"
   ]
  },
  {
   "cell_type": "code",
   "execution_count": 623,
   "metadata": {},
   "outputs": [
    {
     "data": {
      "text/plain": [
       "(20, 3001)"
      ]
     },
     "execution_count": 623,
     "metadata": {},
     "output_type": "execute_result"
    }
   ],
   "source": [
    "final_df.shape"
   ]
  },
  {
   "cell_type": "code",
   "execution_count": 624,
   "metadata": {},
   "outputs": [],
   "source": [
    "X_bin = final_df.drop(columns='faulty')"
   ]
  },
  {
   "cell_type": "code",
   "execution_count": 629,
   "metadata": {},
   "outputs": [],
   "source": [
    "y = faulty"
   ]
  },
  {
   "cell_type": "code",
   "execution_count": 633,
   "metadata": {},
   "outputs": [
    {
     "data": {
      "text/plain": [
       "[0, 0, 0, 0, 0, 0, 0, 0, 0, 0, 0, 0, 0, 0, 1, 0, 1, 0, 1, 0]"
      ]
     },
     "execution_count": 633,
     "metadata": {},
     "output_type": "execute_result"
    }
   ],
   "source": [
    "y"
   ]
  },
  {
   "cell_type": "markdown",
   "metadata": {},
   "source": [
    "### Onehot encoding of Y response"
   ]
  },
  {
   "cell_type": "code",
   "execution_count": 634,
   "metadata": {},
   "outputs": [],
   "source": [
    "from sklearn.preprocessing import LabelEncoder\n",
    "from keras.utils import np_utils\n",
    "\n",
    "# encode class values as integers\n",
    "encoder = LabelEncoder()\n",
    "encoder.fit(y)\n",
    "encoded_Y = encoder.transform(y)\n",
    "# convert integers to dummy variables (i.e. one hot encoded)\n",
    "dummy_y = np_utils.to_categorical(encoded_Y)"
   ]
  },
  {
   "cell_type": "markdown",
   "metadata": {},
   "source": [
    "### Standardization of input data using StandardScaler"
   ]
  },
  {
   "cell_type": "code",
   "execution_count": 625,
   "metadata": {},
   "outputs": [],
   "source": [
    "from sklearn.preprocessing import StandardScaler\n",
    "scaler = StandardScaler()\n",
    "clean_data_std = scaler.fit_transform(X_bin)"
   ]
  },
  {
   "cell_type": "markdown",
   "metadata": {},
   "source": [
    "### Design and Implementation of Artificial neural networkd in order to classify the machines"
   ]
  },
  {
   "cell_type": "code",
   "execution_count": 637,
   "metadata": {},
   "outputs": [
    {
     "name": "stdout",
     "output_type": "stream",
     "text": [
      "Epoch 1/1\n",
      "20/20 [==============================] - 0s 7ms/step - loss: 0.6520 - accuracy: 0.5750\n",
      "[0.575]\n",
      "20/20 [==============================] - 0s 1ms/step\n",
      "accuracy: 97.50%\n",
      "97.50000238418579\n"
     ]
    }
   ],
   "source": [
    "#Import libraries\n",
    "from sklearn.datasets.samples_generator import make_blobs\n",
    "from sklearn.datasets import make_regression\n",
    "from  sklearn.datasets import make_classification \n",
    "from matplotlib import pyplot\n",
    "import numpy as np\n",
    "from numpy import where\n",
    "from collections import Counter\n",
    "from scipy import stats\n",
    "import pandas as pd\n",
    "import matplotlib.pyplot as plt\n",
    "import seaborn as sns\n",
    "from keras.wrappers.scikit_learn import KerasClassifier\n",
    "from sklearn.model_selection import GridSearchCV\n",
    "from keras.models import Sequential\n",
    "from keras.layers import Dense\n",
    "from keras.layers import LeakyReLU\n",
    "import pickle as pkl\n",
    "\n",
    "from keras.layers import Dropout\n",
    "batch_ = 16\n",
    "nodes_ = 50\n",
    "activation_ = \"relu\"\n",
    "\n",
    "scores_layer2 = []   \n",
    "\n",
    "#Designing and Applying ANN to classify Faulty and Non Faulty\n",
    "\n",
    "model = Sequential()\n",
    "model.add(Dense(200, batch_size = batch_, activation = activation_ ))\n",
    "model.add(Dropout(0.2))\n",
    "model.add(Dense(100, batch_size = batch_, activation = activation_))\n",
    "#model.add(Dropout(0.1))\n",
    "model.add(Dense(2, activation='sigmoid'))\n",
    "model.compile(loss='binary_crossentropy', optimizer='adam', metrics=['accuracy'])\n",
    "history = model.fit(clean_data_std, dummy_y, epochs=1, batch_size=batch_)\n",
    "print(history.history['accuracy'])\n",
    "history = history.history['accuracy']\n",
    "scores_ = model.evaluate(clean_data_std, dummy_y)\n",
    "print(\"%s: %.2f%%\" % (model.metrics_names[1], scores_[1]*100))\n",
    "#print(model.metrics_names)\n",
    "print(scores_[1]*100)\n",
    "scores_layer2.append(scores_[1]*100)"
   ]
  },
  {
   "cell_type": "code",
   "execution_count": null,
   "metadata": {},
   "outputs": [],
   "source": []
  }
 ],
 "metadata": {
  "kernelspec": {
   "display_name": "Python 3",
   "language": "python",
   "name": "python3"
  },
  "language_info": {
   "codemirror_mode": {
    "name": "ipython",
    "version": 3
   },
   "file_extension": ".py",
   "mimetype": "text/x-python",
   "name": "python",
   "nbconvert_exporter": "python",
   "pygments_lexer": "ipython3",
   "version": "3.7.4"
  }
 },
 "nbformat": 4,
 "nbformat_minor": 4
}
